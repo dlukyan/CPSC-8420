{
 "cells": [
  {
   "cell_type": "code",
   "execution_count": 118,
   "metadata": {},
   "outputs": [],
   "source": [
    "import os\n",
    "import wave\n",
    "import warnings\n",
    "warnings.simplefilter(action = 'ignore', category = FutureWarning)\n",
    "import librosa\n",
    "import librosa.display\n",
    "import soundfile\n",
    "import numpy as np\n",
    "import sklearn\n",
    "import matplotlib.pyplot as plt\n",
    "import tensorflow as tf\n",
    "import keras_tuner\n",
    "from keras.utils import plot_model\n",
    "import tpot\n",
    "from tqdm import tqdm"
   ]
  },
  {
   "cell_type": "markdown",
   "metadata": {},
   "source": [
    "Let's set some parameters:"
   ]
  },
  {
   "cell_type": "code",
   "execution_count": 119,
   "metadata": {},
   "outputs": [],
   "source": [
    "seed = 12345\n",
    "dir_source = os.path.abspath('../data/recordings')\n",
    "dir_trimmed = os.path.abspath('../data/trimmed')\n",
    "dir_unified = os.path.abspath('../data/unified')\n",
    "dir_mfcc = os.path.abspath('../data/mfcc/')"
   ]
  },
  {
   "cell_type": "markdown",
   "metadata": {},
   "source": [
    "Let's collect names of all source files:"
   ]
  },
  {
   "cell_type": "code",
   "execution_count": 4,
   "metadata": {},
   "outputs": [
    {
     "name": "stdout",
     "output_type": "stream",
     "text": [
      "Source directory: /Users/dmitry/Documents/Clemson/AML/project/data/recordings\n",
      "Source files: 3000\n"
     ]
    }
   ],
   "source": [
    "print('Source directory: ' + dir_source)\n",
    "files_wav = os.listdir(dir_source)\n",
    "print('Source files: ' + str(len(files_wav)))"
   ]
  },
  {
   "cell_type": "markdown",
   "metadata": {},
   "source": [
    "The first step would be unify the number of channels.\n",
    "Let's understand if it's required for our dataset:"
   ]
  },
  {
   "cell_type": "code",
   "execution_count": 120,
   "metadata": {},
   "outputs": [
    {
     "name": "stderr",
     "output_type": "stream",
     "text": [
      "100%|██████████| 3000/3000 [00:01<00:00, 2642.72it/s]"
     ]
    },
    {
     "name": "stdout",
     "output_type": "stream",
     "text": [
      "Unique channel number: 1\n"
     ]
    },
    {
     "name": "stderr",
     "output_type": "stream",
     "text": [
      "\n"
     ]
    }
   ],
   "source": [
    "ch = []\n",
    "for fname in tqdm(files_wav):\n",
    "    f = wave.open(dir_source + '/' + fname, 'rb')\n",
    "    ch.append(f.getnchannels())\n",
    "    f.close()\n",
    "print('Unique channel number: ' + str(len(set(ch))))"
   ]
  },
  {
   "cell_type": "markdown",
   "metadata": {},
   "source": [
    "Let's understand how many channels our files have:"
   ]
  },
  {
   "cell_type": "code",
   "execution_count": 121,
   "metadata": {},
   "outputs": [
    {
     "name": "stdout",
     "output_type": "stream",
     "text": [
      "Channels: 1\n"
     ]
    }
   ],
   "source": [
    "f = wave.open(dir_source + '/' + files_wav[0], 'rb')\n",
    "print('Channels: ' + str(f.getnchannels()))\n",
    "f.close()"
   ]
  },
  {
   "cell_type": "markdown",
   "metadata": {},
   "source": [
    "It means all our files have one channel (mono). For different numbers of channels we would have two options:\n",
    "- downscale a number of channels for all files to 1\n",
    "- upscale a number of channels for all files to the maximum of all files\n",
    "\n",
    "The first option is simpler as for the second one we would need to handle the situation when the maximum is 3, but some files have 2 channels with different content."
   ]
  },
  {
   "cell_type": "markdown",
   "metadata": {},
   "source": [
    "The second step would be unify the sample rate.\n",
    "Let's understand if it's required for our dataset:"
   ]
  },
  {
   "cell_type": "code",
   "execution_count": 122,
   "metadata": {},
   "outputs": [
    {
     "name": "stderr",
     "output_type": "stream",
     "text": [
      "100%|██████████| 3000/3000 [00:01<00:00, 2769.06it/s]"
     ]
    },
    {
     "name": "stdout",
     "output_type": "stream",
     "text": [
      "Unique sample rate number: 1\n"
     ]
    },
    {
     "name": "stderr",
     "output_type": "stream",
     "text": [
      "\n"
     ]
    }
   ],
   "source": [
    "rt = []\n",
    "for fname in tqdm(files_wav):\n",
    "    f = wave.open(dir_source + '/' + fname, 'rb')\n",
    "    rt.append(f.getframerate())\n",
    "    f.close()\n",
    "print('Unique sample rate number: ' + str(len(set(rt))))"
   ]
  },
  {
   "cell_type": "code",
   "execution_count": 123,
   "metadata": {},
   "outputs": [
    {
     "name": "stdout",
     "output_type": "stream",
     "text": [
      "Sample rate: 8000\n"
     ]
    }
   ],
   "source": [
    "print('Sample rate: ' + str(rt[0]))"
   ]
  },
  {
   "cell_type": "markdown",
   "metadata": {},
   "source": [
    "The third step is to unify the duration.\n",
    "As we have just mono files, we can calulate a duration for each file in the next way and understand if we need to unify it:"
   ]
  },
  {
   "cell_type": "code",
   "execution_count": 124,
   "metadata": {},
   "outputs": [
    {
     "name": "stderr",
     "output_type": "stream",
     "text": [
      "100%|██████████| 3000/3000 [00:00<00:00, 12846.92it/s]"
     ]
    },
    {
     "name": "stdout",
     "output_type": "stream",
     "text": [
      "Unique duration number: 2056\n"
     ]
    },
    {
     "name": "stderr",
     "output_type": "stream",
     "text": [
      "\n"
     ]
    }
   ],
   "source": [
    "dur = []\n",
    "for fname in tqdm(files_wav):\n",
    "    f = wave.open(dir_source + '/' + fname, 'rb')\n",
    "    dur.append(f.getnframes() / float(f.getframerate()))\n",
    "    f.close()\n",
    "print('Unique duration number: ' + str(len(set(dur))))"
   ]
  },
  {
   "cell_type": "markdown",
   "metadata": {},
   "source": [
    "It means we need to unify the duration for all files.\n",
    "\n",
    "Let's start with removing silence from all files:"
   ]
  },
  {
   "cell_type": "code",
   "execution_count": 125,
   "metadata": {},
   "outputs": [
    {
     "name": "stderr",
     "output_type": "stream",
     "text": [
      "100%|██████████| 3000/3000 [00:04<00:00, 644.18it/s]\n"
     ]
    }
   ],
   "source": [
    "for fname in tqdm(files_wav):\n",
    "    audio, sr = librosa.load(dir_source + '/' + fname, sr = 8000, mono = True)\n",
    "    clip = librosa.effects.trim(audio, top_db = 10)\n",
    "    soundfile.write(dir_trimmed + '/' + fname, clip[0], sr)"
   ]
  },
  {
   "cell_type": "markdown",
   "metadata": {},
   "source": [
    "Now let's find the maximum duration among all files:"
   ]
  },
  {
   "cell_type": "code",
   "execution_count": 126,
   "metadata": {},
   "outputs": [
    {
     "name": "stderr",
     "output_type": "stream",
     "text": [
      "100%|██████████| 3000/3000 [00:00<00:00, 4494.43it/s]"
     ]
    },
    {
     "name": "stdout",
     "output_type": "stream",
     "text": [
      "Max duration: 6457\n"
     ]
    },
    {
     "name": "stderr",
     "output_type": "stream",
     "text": [
      "\n"
     ]
    }
   ],
   "source": [
    "dur_max = 0\n",
    "for fname in tqdm(files_wav):\n",
    "    audio, sr = librosa.load(dir_trimmed + '/' + fname, sr = 8000, mono = True)\n",
    "    dur_max = dur_max if dur_max > audio.shape[0] else audio.shape[0]\n",
    "print('Max duration: ' + str(dur_max))"
   ]
  },
  {
   "cell_type": "markdown",
   "metadata": {},
   "source": [
    "And now let's unify duration for all files:"
   ]
  },
  {
   "cell_type": "code",
   "execution_count": 127,
   "metadata": {},
   "outputs": [
    {
     "name": "stderr",
     "output_type": "stream",
     "text": [
      "100%|██████████| 3000/3000 [00:03<00:00, 909.99it/s] \n"
     ]
    }
   ],
   "source": [
    "for fname in tqdm(files_wav):\n",
    "    audio, sr = librosa.load(dir_trimmed + '/' + fname, sr = 8000, mono = True)\n",
    "    clip = librosa.util.pad_center(data = audio, size = dur_max)\n",
    "    soundfile.write(dir_unified + '/' + fname, clip, sr)"
   ]
  },
  {
   "cell_type": "markdown",
   "metadata": {},
   "source": [
    "Let's calculate and normalize MFCCs:"
   ]
  },
  {
   "cell_type": "code",
   "execution_count": 129,
   "metadata": {},
   "outputs": [
    {
     "name": "stderr",
     "output_type": "stream",
     "text": [
      "100%|██████████| 3000/3000 [00:21<00:00, 137.27it/s]\n"
     ]
    }
   ],
   "source": [
    "scaler = sklearn.preprocessing.StandardScaler()\n",
    "mfccs_tmp = []\n",
    "for fname in tqdm(files_wav):\n",
    "    audio, sr = librosa.load(dir_unified + '/' + fname, sr = 8000, mono = True)\n",
    "    mfcc = librosa.feature.mfcc(audio, sr = sr)\n",
    "    mfccs_tmp.append(mfcc)\n",
    "\n",
    "num_instances, num_time_steps, num_features = np.shape(mfccs_tmp)\n",
    "mfccs_tmp = np.reshape(mfccs_tmp, newshape = (-1, num_features))\n",
    "mfccs_tmp = scaler.fit_transform(mfccs_tmp)\n",
    "mfccs_tmp = np.reshape(mfccs_tmp, newshape = (num_instances, num_time_steps, num_features))\n",
    "\n",
    "for idx, item in enumerate(files_wav):\n",
    "    np.savetxt(dir_mfcc + '/' + item.replace('.wav', '.mfcc'), mfccs_tmp[idx])"
   ]
  },
  {
   "cell_type": "markdown",
   "metadata": {},
   "source": [
    "Let's split the dataset onto a training and a testing sets:"
   ]
  },
  {
   "cell_type": "code",
   "execution_count": 130,
   "metadata": {},
   "outputs": [
    {
     "name": "stdout",
     "output_type": "stream",
     "text": [
      "Training set size: 2250\n",
      "Testing set size: 750\n"
     ]
    }
   ],
   "source": [
    "data_train, data_test = sklearn.model_selection.train_test_split(files_wav, random_state = seed)\n",
    "print('Training set size: ' + str(len(data_train)))\n",
    "print('Testing set size: ' + str(len(data_test)))"
   ]
  },
  {
   "cell_type": "markdown",
   "metadata": {},
   "source": [
    "Let's create labels for our training and testing data:"
   ]
  },
  {
   "cell_type": "code",
   "execution_count": 131,
   "metadata": {},
   "outputs": [
    {
     "name": "stderr",
     "output_type": "stream",
     "text": [
      "100%|██████████| 2250/2250 [00:00<00:00, 864052.74it/s]\n",
      "100%|██████████| 750/750 [00:00<00:00, 623410.23it/s]\n"
     ]
    }
   ],
   "source": [
    "data_train_label = []\n",
    "data_test_label = []\n",
    "for d in tqdm(data_train):\n",
    "    data_train_label.append(d[0])\n",
    "for d in tqdm(data_test):\n",
    "    data_test_label.append(d[0])"
   ]
  },
  {
   "cell_type": "markdown",
   "metadata": {},
   "source": [
    "When we use sklearn for SVM, the library provides 3 options of implementation: SVC, NuSVC and LinearSVC. The latter is, actually, not truly SVM as it minimizes squared hinge loss, instead of just hinge loss, that leads to penalizing the size of bias, and supports only linear kernels, so, effectively, there are 2 options - SVC and NuSVC. As the both implementations are almost identical, we will use SVC."
   ]
  },
  {
   "cell_type": "code",
   "execution_count": 132,
   "metadata": {},
   "outputs": [
    {
     "name": "stderr",
     "output_type": "stream",
     "text": [
      "100%|██████████| 2250/2250 [00:01<00:00, 1957.24it/s]\n",
      "100%|██████████| 750/750 [00:00<00:00, 2141.49it/s]\n"
     ]
    }
   ],
   "source": [
    "mfccs_train = []\n",
    "for fname in tqdm(data_train):\n",
    "    mfccs_train.append(np.loadtxt(dir_mfcc + '/' + fname.replace('.wav', '.mfcc')).ravel())\n",
    "model_svm = sklearn.svm.SVC(kernel = 'rbf', random_state = seed)\n",
    "model_svm.fit(mfccs_train, data_train_label)\n",
    "\n",
    "mfccs_test = []\n",
    "for fname in tqdm(data_test):\n",
    "    mfccs_test.append(np.loadtxt(dir_mfcc + '/' + fname.replace('.wav', '.mfcc')).ravel())\n",
    "model_svm_predict =  model_svm.predict(mfccs_test)\n"
   ]
  },
  {
   "cell_type": "markdown",
   "metadata": {},
   "source": [
    "Let's build a confusion matrix for our model:"
   ]
  },
  {
   "cell_type": "code",
   "execution_count": 133,
   "metadata": {},
   "outputs": [
    {
     "data": {
      "image/png": "[encoded data removed]",
      "text/plain": [
       "<Figure size 640x480 with 2 Axes>"
      ]
     },
     "metadata": {},
     "output_type": "display_data"
    },
    {
     "name": "stdout",
     "output_type": "stream",
     "text": [
      "SVM accuracy with guesses on hyperparameters: 0.9693333333333334\n"
     ]
    }
   ],
   "source": [
    "conf_svm = sklearn.metrics.confusion_matrix(data_test_label, model_svm_predict);\n",
    "disp = sklearn.metrics.ConfusionMatrixDisplay(conf_svm)\n",
    "disp.plot()\n",
    "plt.show()\n",
    "accuracy_svm = sklearn.metrics.accuracy_score(data_test_label, model_svm_predict)\n",
    "print('SVM accuracy with guesses on hyperparameters: ' + str(accuracy_svm))"
   ]
  },
  {
   "cell_type": "markdown",
   "metadata": {},
   "source": [
    "Let's try to tune hyperparameters and enable K-fold cross-validation:"
   ]
  },
  {
   "cell_type": "code",
   "execution_count": 134,
   "metadata": {},
   "outputs": [
    {
     "name": "stderr",
     "output_type": "stream",
     "text": [
      "100%|██████████| 2250/2250 [00:01<00:00, 1298.32it/s]\n"
     ]
    },
    {
     "name": "stdout",
     "output_type": "stream",
     "text": [
      "Fitting 15 folds for each of 50 candidates, totalling 750 fits\n",
      "[CV 5/15] END C=5, degree=8, gamma=scale, kernel=linear;, score=0.984 total time=   0.3s\n",
      "[CV 2/15] END C=5, degree=8, gamma=scale, kernel=linear;, score=0.993 total time=   0.3s\n",
      "[CV 3/15] END C=5, degree=8, gamma=scale, kernel=linear;, score=0.993 total time=   0.3s\n",
      "[CV 4/15] END C=5, degree=8, gamma=scale, kernel=linear;, score=0.982 total time=   0.3s\n",
      "[CV 1/15] END C=5, degree=8, gamma=scale, kernel=linear;, score=0.984 total time=   0.3s\n",
      "[CV 6/15] END C=5, degree=8, gamma=scale, kernel=linear;, score=0.984 total time=   0.3s\n",
      "[CV 7/15] END C=5, degree=8, gamma=scale, kernel=linear;, score=0.987 total time=   0.2s\n",
      "[CV 8/15] END C=5, degree=8, gamma=scale, kernel=linear;, score=0.991 total time=   0.2s\n",
      "[CV 13/15] END C=5, degree=8, gamma=scale, kernel=linear;, score=0.987 total time=   0.2s\n",
      "[CV 9/15] END C=5, degree=8, gamma=scale, kernel=linear;, score=0.991 total time=   0.2s\n",
      "[CV 14/15] END C=5, degree=8, gamma=scale, kernel=linear;, score=0.978 total time=   0.2s\n",
      "[CV 10/15] END C=5, degree=8, gamma=scale, kernel=linear;, score=0.984 total time=   0.2s\n",
      "[CV 15/15] END C=5, degree=8, gamma=scale, kernel=linear;, score=0.993 total time=   0.1s\n",
      "[CV 11/15] END C=5, degree=8, gamma=scale, kernel=linear;, score=0.984 total time=   0.1s\n",
      "[CV 12/15] END C=5, degree=8, gamma=scale, kernel=linear;, score=0.991 total time=   0.2s\n",
      "[CV 1/15] END C=6, degree=7, gamma=scale, kernel=poly;, score=0.891 total time=   0.3s\n",
      "[CV 2/15] END C=6, degree=7, gamma=scale, kernel=poly;, score=0.856 total time=   0.3s\n",
      "[CV 3/15] END C=6, degree=7, gamma=scale, kernel=poly;, score=0.900 total time=   0.3s\n",
      "[CV 4/15] END C=6, degree=7, gamma=scale, kernel=poly;, score=0.838 total time=   0.3s\n",
      "[CV 5/15] END C=6, degree=7, gamma=scale, kernel=poly;, score=0.864 total time=   0.3s\n",
      "[CV 6/15] END C=6, degree=7, gamma=scale, kernel=poly;, score=0.864 total time=   0.3s\n",
      "[CV 7/15] END C=6, degree=7, gamma=scale, kernel=poly;, score=0.838 total time=   0.3s\n",
      "[CV 8/15] END C=6, degree=7, gamma=scale, kernel=poly;, score=0.891 total time=   0.3s\n",
      "[CV 9/15] END C=6, degree=7, gamma=scale, kernel=poly;, score=0.864 total time=   0.3s\n",
      "[CV 10/15] END C=6, degree=7, gamma=scale, kernel=poly;, score=0.873 total time=   0.3s\n",
      "[CV 11/15] END C=6, degree=7, gamma=scale, kernel=poly;, score=0.871 total time=   0.3s\n",
      "[CV 12/15] END C=6, degree=7, gamma=scale, kernel=poly;, score=0.858 total time=   0.3s\n",
      "[CV 13/15] END C=6, degree=7, gamma=scale, kernel=poly;, score=0.864 total time=   0.3s\n",
      "[CV 14/15] END C=6, degree=7, gamma=scale, kernel=poly;, score=0.880 total time=   0.3s\n",
      "[CV 15/15] END C=6, degree=7, gamma=scale, kernel=poly;, score=0.891 total time=   0.3s\n",
      "[CV 1/15] END C=2, degree=7, gamma=auto, kernel=rbf;, score=0.971 total time=   0.4s\n",
      "[CV 2/15] END C=2, degree=7, gamma=auto, kernel=rbf;, score=0.978 total time=   0.4s\n",
      "[CV 3/15] END C=2, degree=7, gamma=auto, kernel=rbf;, score=0.989 total time=   0.4s\n",
      "[CV 4/15] END C=2, degree=7, gamma=auto, kernel=rbf;, score=0.967 total time=   0.4s\n",
      "[CV 5/15] END C=2, degree=7, gamma=auto, kernel=rbf;, score=0.980 total time=   0.4s\n",
      "[CV 6/15] END C=2, degree=7, gamma=auto, kernel=rbf;, score=0.960 total time=   0.4s\n",
      "[CV 7/15] END C=2, degree=7, gamma=auto, kernel=rbf;, score=0.976 total time=   0.4s\n",
      "[CV 8/15] END C=2, degree=7, gamma=auto, kernel=rbf;, score=0.980 total time=   0.4s\n",
      "[CV 9/15] END C=2, degree=7, gamma=auto, kernel=rbf;, score=0.964 total time=   0.4s\n",
      "[CV 10/15] END C=2, degree=7, gamma=auto, kernel=rbf;, score=0.980 total time=   0.4s\n",
      "[CV 11/15] END C=2, degree=7, gamma=auto, kernel=rbf;, score=0.976 total time=   0.4s\n",
      "[CV 12/15] END C=2, degree=7, gamma=auto, kernel=rbf;, score=0.982 total time=   0.4s\n",
      "[CV 13/15] END C=2, degree=7, gamma=auto, kernel=rbf;, score=0.982 total time=   0.4s\n",
      "[CV 1/15] END C=8, degree=1, gamma=scale, kernel=poly;, score=0.982 total time=   0.2s\n",
      "[CV 14/15] END C=2, degree=7, gamma=auto, kernel=rbf;, score=0.967 total time=   0.4s\n",
      "[CV 2/15] END C=8, degree=1, gamma=scale, kernel=poly;, score=0.987 total time=   0.2s\n",
      "[CV 15/15] END C=2, degree=7, gamma=auto, kernel=rbf;, score=0.964 total time=   0.4s\n",
      "[CV 3/15] END C=8, degree=1, gamma=scale, kernel=poly;, score=0.989 total time=   0.2s\n",
      "[CV 4/15] END C=8, degree=1, gamma=scale, kernel=poly;, score=0.976 total time=   0.3s\n",
      "[CV 5/15] END C=8, degree=1, gamma=scale, kernel=poly;, score=0.984 total time=   0.3s\n",
      "[CV 6/15] END C=8, degree=1, gamma=scale, kernel=poly;, score=0.971 total time=   0.3s\n",
      "[CV 7/15] END C=8, degree=1, gamma=scale, kernel=poly;, score=0.984 total time=   0.3s\n",
      "[CV 8/15] END C=8, degree=1, gamma=scale, kernel=poly;, score=0.987 total time=   0.3s\n",
      "[CV 9/15] END C=8, degree=1, gamma=scale, kernel=poly;, score=0.980 total time=   0.4s\n",
      "[CV 10/15] END C=8, degree=1, gamma=scale, kernel=poly;, score=0.987 total time=   0.4s\n",
      "[CV 11/15] END C=8, degree=1, gamma=scale, kernel=poly;, score=0.987 total time=   0.3s\n",
      "[CV 12/15] END C=8, degree=1, gamma=scale, kernel=poly;, score=0.989 total time=   0.2s\n",
      "[CV 13/15] END C=8, degree=1, gamma=scale, kernel=poly;, score=0.984 total time=   0.2s\n",
      "[CV 14/15] END C=8, degree=1, gamma=scale, kernel=poly;, score=0.971 total time=   0.2s\n",
      "[CV 15/15] END C=8, degree=1, gamma=scale, kernel=poly;, score=0.973 total time=   0.2s\n",
      "[CV 1/15] END C=5, degree=4, gamma=auto, kernel=poly;, score=0.980 total time=   0.2s\n",
      "[CV 2/15] END C=5, degree=4, gamma=auto, kernel=poly;, score=0.973 total time=   0.2s\n",
      "[CV 3/15] END C=5, degree=4, gamma=auto, kernel=poly;, score=0.978 total time=   0.2s\n",
      "[CV 4/15] END C=5, degree=4, gamma=auto, kernel=poly;, score=0.967 total time=   0.2s\n",
      "[CV 5/15] END C=5, degree=4, gamma=auto, kernel=poly;, score=0.973 total time=   0.2s\n",
      "[CV 6/15] END C=5, degree=4, gamma=auto, kernel=poly;, score=0.976 total time=   0.2s\n",
      "[CV 7/15] END C=5, degree=4, gamma=auto, kernel=poly;, score=0.973 total time=   0.2s\n",
      "[CV 8/15] END C=5, degree=4, gamma=auto, kernel=poly;, score=0.989 total time=   0.3s\n",
      "[CV 9/15] END C=5, degree=4, gamma=auto, kernel=poly;, score=0.971 total time=   0.3s\n",
      "[CV 10/15] END C=5, degree=4, gamma=auto, kernel=poly;, score=0.976 total time=   0.3s\n",
      "[CV 11/15] END C=5, degree=4, gamma=auto, kernel=poly;, score=0.969 total time=   0.4s\n",
      "[CV 12/15] END C=5, degree=4, gamma=auto, kernel=poly;, score=0.978 total time=   0.4s\n",
      "[CV 13/15] END C=5, degree=4, gamma=auto, kernel=poly;, score=0.978 total time=   0.4s\n",
      "[CV 14/15] END C=5, degree=4, gamma=auto, kernel=poly;, score=0.969 total time=   0.3s\n",
      "[CV 1/15] END C=1, degree=7, gamma=scale, kernel=linear;, score=0.984 total time=   0.1s\n",
      "[CV 15/15] END C=5, degree=4, gamma=auto, kernel=poly;, score=0.973 total time=   0.2s\n",
      "[CV 2/15] END C=1, degree=7, gamma=scale, kernel=linear;, score=0.993 total time=   0.1s\n",
      "[CV 3/15] END C=1, degree=7, gamma=scale, kernel=linear;, score=0.991 total time=   0.1s\n",
      "[CV 4/15] END C=1, degree=7, gamma=scale, kernel=linear;, score=0.982 total time=   0.2s\n",
      "[CV 5/15] END C=1, degree=7, gamma=scale, kernel=linear;, score=0.989 total time=   0.2s\n",
      "[CV 6/15] END C=1, degree=7, gamma=scale, kernel=linear;, score=0.987 total time=   0.2s\n",
      "[CV 7/15] END C=1, degree=7, gamma=scale, kernel=linear;, score=0.987 total time=   0.1s\n",
      "[CV 8/15] END C=1, degree=7, gamma=scale, kernel=linear;, score=0.991 total time=   0.1s\n",
      "[CV 9/15] END C=1, degree=7, gamma=scale, kernel=linear;, score=0.989 total time=   0.1s\n",
      "[CV 10/15] END C=1, degree=7, gamma=scale, kernel=linear;, score=0.989 total time=   0.1s\n",
      "[CV 11/15] END C=1, degree=7, gamma=scale, kernel=linear;, score=0.982 total time=   0.1s\n",
      "[CV 12/15] END C=1, degree=7, gamma=scale, kernel=linear;, score=0.993 total time=   0.1s\n",
      "[CV 13/15] END C=1, degree=7, gamma=scale, kernel=linear;, score=0.989 total time=   0.1s\n",
      "[CV 14/15] END C=1, degree=7, gamma=scale, kernel=linear;, score=0.982 total time=   0.1s\n",
      "[CV 15/15] END C=1, degree=7, gamma=scale, kernel=linear;, score=0.993 total time=   0.1s\n",
      "[CV 1/15] END C=8, degree=4, gamma=auto, kernel=linear;, score=0.984 total time=   0.1s\n",
      "[CV 2/15] END C=8, degree=4, gamma=auto, kernel=linear;, score=0.993 total time=   0.1s\n",
      "[CV 3/15] END C=8, degree=4, gamma=auto, kernel=linear;, score=0.993 total time=   0.1s\n",
      "[CV 4/15] END C=8, degree=4, gamma=auto, kernel=linear;, score=0.982 total time=   0.2s\n",
      "[CV 5/15] END C=8, degree=4, gamma=auto, kernel=linear;, score=0.984 total time=   0.2s\n",
      "[CV 6/15] END C=8, degree=4, gamma=auto, kernel=linear;, score=0.984 total time=   0.1s\n",
      "[CV 7/15] END C=8, degree=4, gamma=auto, kernel=linear;, score=0.987 total time=   0.1s\n",
      "[CV 8/15] END C=8, degree=4, gamma=auto, kernel=linear;, score=0.991 total time=   0.1s\n",
      "[CV 9/15] END C=8, degree=4, gamma=auto, kernel=linear;, score=0.991 total time=   0.1s\n",
      "[CV 10/15] END C=8, degree=4, gamma=auto, kernel=linear;, score=0.984 total time=   0.1s\n",
      "[CV 11/15] END C=8, degree=4, gamma=auto, kernel=linear;, score=0.984 total time=   0.1s\n",
      "[CV 12/15] END C=8, degree=4, gamma=auto, kernel=linear;, score=0.991 total time=   0.1s\n",
      "[CV 13/15] END C=8, degree=4, gamma=auto, kernel=linear;, score=0.987 total time=   0.2s\n",
      "[CV 14/15] END C=8, degree=4, gamma=auto, kernel=linear;, score=0.978 total time=   0.2s\n",
      "[CV 15/15] END C=8, degree=4, gamma=auto, kernel=linear;, score=0.993 total time=   0.2s\n",
      "[CV 1/15] END C=2, degree=7, gamma=scale, kernel=linear;, score=0.989 total time=   0.2s\n",
      "[CV 2/15] END C=2, degree=7, gamma=scale, kernel=linear;, score=0.993 total time=   0.1s\n",
      "[CV 3/15] END C=2, degree=7, gamma=scale, kernel=linear;, score=0.993 total time=   0.1s\n",
      "[CV 4/15] END C=2, degree=7, gamma=scale, kernel=linear;, score=0.982 total time=   0.1s\n",
      "[CV 5/15] END C=2, degree=7, gamma=scale, kernel=linear;, score=0.987 total time=   0.1s\n",
      "[CV 6/15] END C=2, degree=7, gamma=scale, kernel=linear;, score=0.987 total time=   0.1s\n",
      "[CV 7/15] END C=2, degree=7, gamma=scale, kernel=linear;, score=0.987 total time=   0.1s\n",
      "[CV 8/15] END C=2, degree=7, gamma=scale, kernel=linear;, score=0.993 total time=   0.1s\n",
      "[CV 9/15] END C=2, degree=7, gamma=scale, kernel=linear;, score=0.991 total time=   0.1s\n",
      "[CV 10/15] END C=2, degree=7, gamma=scale, kernel=linear;, score=0.987 total time=   0.1s\n",
      "[CV 11/15] END C=2, degree=7, gamma=scale, kernel=linear;, score=0.984 total time=   0.1s\n",
      "[CV 12/15] END C=2, degree=7, gamma=scale, kernel=linear;, score=0.993 total time=   0.1s\n",
      "[CV 13/15] END C=2, degree=7, gamma=scale, kernel=linear;, score=0.989 total time=   0.1s\n",
      "[CV 14/15] END C=2, degree=7, gamma=scale, kernel=linear;, score=0.980 total time=   0.1s\n",
      "[CV 15/15] END C=2, degree=7, gamma=scale, kernel=linear;, score=0.993 total time=   0.1s\n",
      "[CV 1/15] END C=3, degree=10, gamma=scale, kernel=rbf;, score=0.982 total time=   0.6s\n",
      "[CV 2/15] END C=3, degree=10, gamma=scale, kernel=rbf;, score=0.984 total time=   0.8s\n",
      "[CV 3/15] END C=3, degree=10, gamma=scale, kernel=rbf;, score=0.987 total time=   0.9s\n",
      "[CV 4/15] END C=3, degree=10, gamma=scale, kernel=rbf;, score=0.971 total time=   0.9s\n",
      "[CV 5/15] END C=3, degree=10, gamma=scale, kernel=rbf;, score=0.982 total time=   0.9s\n",
      "[CV 6/15] END C=3, degree=10, gamma=scale, kernel=rbf;, score=0.969 total time=   0.7s\n",
      "[CV 7/15] END C=3, degree=10, gamma=scale, kernel=rbf;, score=0.980 total time=   0.6s\n",
      "[CV 8/15] END C=3, degree=10, gamma=scale, kernel=rbf;, score=0.984 total time=   0.5s\n",
      "[CV 9/15] END C=3, degree=10, gamma=scale, kernel=rbf;, score=0.978 total time=   0.4s\n",
      "[CV 10/15] END C=3, degree=10, gamma=scale, kernel=rbf;, score=0.980 total time=   0.3s\n",
      "[CV 11/15] END C=3, degree=10, gamma=scale, kernel=rbf;, score=0.982 total time=   0.3s\n",
      "[CV 12/15] END C=3, degree=10, gamma=scale, kernel=rbf;, score=0.989 total time=   0.3s\n",
      "[CV 13/15] END C=3, degree=10, gamma=scale, kernel=rbf;, score=0.987 total time=   0.3s\n",
      "[CV 1/15] END C=7, degree=0, gamma=scale, kernel=linear;, score=0.984 total time=   0.1s\n",
      "[CV 14/15] END C=3, degree=10, gamma=scale, kernel=rbf;, score=0.976 total time=   0.3s\n",
      "[CV 2/15] END C=7, degree=0, gamma=scale, kernel=linear;, score=0.993 total time=   0.1s\n",
      "[CV 15/15] END C=3, degree=10, gamma=scale, kernel=rbf;, score=0.967 total time=   0.3s\n",
      "[CV 3/15] END C=7, degree=0, gamma=scale, kernel=linear;, score=0.993 total time=   0.2s\n",
      "[CV 4/15] END C=7, degree=0, gamma=scale, kernel=linear;, score=0.982 total time=   0.1s\n",
      "[CV 5/15] END C=7, degree=0, gamma=scale, kernel=linear;, score=0.984 total time=   0.1s\n",
      "[CV 6/15] END C=7, degree=0, gamma=scale, kernel=linear;, score=0.984 total time=   0.1s\n",
      "[CV 7/15] END C=7, degree=0, gamma=scale, kernel=linear;, score=0.987 total time=   0.1s\n",
      "[CV 8/15] END C=7, degree=0, gamma=scale, kernel=linear;, score=0.991 total time=   0.1s\n",
      "[CV 9/15] END C=7, degree=0, gamma=scale, kernel=linear;, score=0.991 total time=   0.1s\n",
      "[CV 10/15] END C=7, degree=0, gamma=scale, kernel=linear;, score=0.984 total time=   0.1s\n",
      "[CV 11/15] END C=7, degree=0, gamma=scale, kernel=linear;, score=0.984 total time=   0.1s\n",
      "[CV 12/15] END C=7, degree=0, gamma=scale, kernel=linear;, score=0.991 total time=   0.1s\n",
      "[CV 13/15] END C=7, degree=0, gamma=scale, kernel=linear;, score=0.987 total time=   0.1s\n",
      "[CV 14/15] END C=7, degree=0, gamma=scale, kernel=linear;, score=0.978 total time=   0.1s\n",
      "[CV 15/15] END C=7, degree=0, gamma=scale, kernel=linear;, score=0.993 total time=   0.1s\n",
      "[CV 1/15] END C=8, degree=1, gamma=scale, kernel=linear;, score=0.984 total time=   0.1s\n",
      "[CV 2/15] END C=8, degree=1, gamma=scale, kernel=linear;, score=0.993 total time=   0.1s\n",
      "[CV 3/15] END C=8, degree=1, gamma=scale, kernel=linear;, score=0.993 total time=   0.1s\n",
      "[CV 4/15] END C=8, degree=1, gamma=scale, kernel=linear;, score=0.982 total time=   0.1s\n",
      "[CV 5/15] END C=8, degree=1, gamma=scale, kernel=linear;, score=0.984 total time=   0.1s\n",
      "[CV 6/15] END C=8, degree=1, gamma=scale, kernel=linear;, score=0.984 total time=   0.1s\n",
      "[CV 7/15] END C=8, degree=1, gamma=scale, kernel=linear;, score=0.987 total time=   0.1s\n",
      "[CV 8/15] END C=8, degree=1, gamma=scale, kernel=linear;, score=0.991 total time=   0.1s\n",
      "[CV 9/15] END C=8, degree=1, gamma=scale, kernel=linear;, score=0.991 total time=   0.2s\n",
      "[CV 10/15] END C=8, degree=1, gamma=scale, kernel=linear;, score=0.984 total time=   0.2s\n",
      "[CV 11/15] END C=8, degree=1, gamma=scale, kernel=linear;, score=0.984 total time=   0.1s\n",
      "[CV 12/15] END C=8, degree=1, gamma=scale, kernel=linear;, score=0.991 total time=   0.1s\n",
      "[CV 13/15] END C=8, degree=1, gamma=scale, kernel=linear;, score=0.987 total time=   0.1s\n",
      "[CV 14/15] END C=8, degree=1, gamma=scale, kernel=linear;, score=0.978 total time=   0.1s\n",
      "[CV 15/15] END C=8, degree=1, gamma=scale, kernel=linear;, score=0.993 total time=   0.1s\n",
      "[CV 1/15] END C=3, degree=2, gamma=auto, kernel=linear;, score=0.982 total time=   0.1s\n",
      "[CV 2/15] END C=3, degree=2, gamma=auto, kernel=linear;, score=0.993 total time=   0.1s\n",
      "[CV 3/15] END C=3, degree=2, gamma=auto, kernel=linear;, score=0.993 total time=   0.1s\n",
      "[CV 4/15] END C=3, degree=2, gamma=auto, kernel=linear;, score=0.982 total time=   0.1s\n",
      "[CV 5/15] END C=3, degree=2, gamma=auto, kernel=linear;, score=0.984 total time=   0.1s\n",
      "[CV 6/15] END C=3, degree=2, gamma=auto, kernel=linear;, score=0.987 total time=   0.1s\n",
      "[CV 7/15] END C=3, degree=2, gamma=auto, kernel=linear;, score=0.987 total time=   0.2s\n",
      "[CV 8/15] END C=3, degree=2, gamma=auto, kernel=linear;, score=0.993 total time=   0.2s\n",
      "[CV 9/15] END C=3, degree=2, gamma=auto, kernel=linear;, score=0.991 total time=   0.1s\n",
      "[CV 10/15] END C=3, degree=2, gamma=auto, kernel=linear;, score=0.987 total time=   0.1s\n",
      "[CV 11/15] END C=3, degree=2, gamma=auto, kernel=linear;, score=0.984 total time=   0.1s\n",
      "[CV 12/15] END C=3, degree=2, gamma=auto, kernel=linear;, score=0.991 total time=   0.1s\n",
      "[CV 13/15] END C=3, degree=2, gamma=auto, kernel=linear;, score=0.989 total time=   0.1s\n",
      "[CV 14/15] END C=3, degree=2, gamma=auto, kernel=linear;, score=0.980 total time=   0.2s\n",
      "[CV 15/15] END C=3, degree=2, gamma=auto, kernel=linear;, score=0.993 total time=   0.1s\n",
      "[CV 1/15] END C=4, degree=2, gamma=scale, kernel=rbf;, score=0.984 total time=   0.3s\n",
      "[CV 2/15] END C=4, degree=2, gamma=scale, kernel=rbf;, score=0.989 total time=   0.3s\n",
      "[CV 3/15] END C=4, degree=2, gamma=scale, kernel=rbf;, score=0.987 total time=   0.3s\n",
      "[CV 4/15] END C=4, degree=2, gamma=scale, kernel=rbf;, score=0.971 total time=   0.3s\n",
      "[CV 5/15] END C=4, degree=2, gamma=scale, kernel=rbf;, score=0.984 total time=   0.4s\n",
      "[CV 6/15] END C=4, degree=2, gamma=scale, kernel=rbf;, score=0.978 total time=   0.4s\n",
      "[CV 7/15] END C=4, degree=2, gamma=scale, kernel=rbf;, score=0.984 total time=   0.5s\n",
      "[CV 8/15] END C=4, degree=2, gamma=scale, kernel=rbf;, score=0.987 total time=   0.6s\n",
      "[CV 9/15] END C=4, degree=2, gamma=scale, kernel=rbf;, score=0.980 total time=   0.5s\n",
      "[CV 10/15] END C=4, degree=2, gamma=scale, kernel=rbf;, score=0.982 total time=   0.4s\n",
      "[CV 11/15] END C=4, degree=2, gamma=scale, kernel=rbf;, score=0.982 total time=   0.3s\n",
      "[CV 12/15] END C=4, degree=2, gamma=scale, kernel=rbf;, score=0.989 total time=   0.3s\n",
      "[CV 13/15] END C=4, degree=2, gamma=scale, kernel=rbf;, score=0.989 total time=   0.3s\n",
      "[CV 1/15] END C=2, degree=2, gamma=scale, kernel=linear;, score=0.989 total time=   0.1s\n",
      "[CV 14/15] END C=4, degree=2, gamma=scale, kernel=rbf;, score=0.976 total time=   0.3s\n",
      "[CV 2/15] END C=2, degree=2, gamma=scale, kernel=linear;, score=0.993 total time=   0.2s\n",
      "[CV 15/15] END C=4, degree=2, gamma=scale, kernel=rbf;, score=0.978 total time=   0.4s\n",
      "[CV 3/15] END C=2, degree=2, gamma=scale, kernel=linear;, score=0.993 total time=   0.3s\n",
      "[CV 4/15] END C=2, degree=2, gamma=scale, kernel=linear;, score=0.982 total time=   0.2s\n",
      "[CV 5/15] END C=2, degree=2, gamma=scale, kernel=linear;, score=0.987 total time=   0.1s\n",
      "[CV 6/15] END C=2, degree=2, gamma=scale, kernel=linear;, score=0.987 total time=   0.1s\n",
      "[CV 7/15] END C=2, degree=2, gamma=scale, kernel=linear;, score=0.987 total time=   0.1s\n",
      "[CV 8/15] END C=2, degree=2, gamma=scale, kernel=linear;, score=0.993 total time=   0.1s\n",
      "[CV 9/15] END C=2, degree=2, gamma=scale, kernel=linear;, score=0.991 total time=   0.2s\n",
      "[CV 10/15] END C=2, degree=2, gamma=scale, kernel=linear;, score=0.987 total time=   0.1s\n",
      "[CV 11/15] END C=2, degree=2, gamma=scale, kernel=linear;, score=0.984 total time=   0.1s\n",
      "[CV 12/15] END C=2, degree=2, gamma=scale, kernel=linear;, score=0.993 total time=   0.1s\n",
      "[CV 13/15] END C=2, degree=2, gamma=scale, kernel=linear;, score=0.989 total time=   0.1s\n",
      "[CV 14/15] END C=2, degree=2, gamma=scale, kernel=linear;, score=0.980 total time=   0.1s\n",
      "[CV 15/15] END C=2, degree=2, gamma=scale, kernel=linear;, score=0.993 total time=   0.1s\n",
      "[CV 1/15] END C=5, degree=3, gamma=scale, kernel=linear;, score=0.984 total time=   0.1s\n",
      "[CV 2/15] END C=5, degree=3, gamma=scale, kernel=linear;, score=0.993 total time=   0.2s\n",
      "[CV 3/15] END C=5, degree=3, gamma=scale, kernel=linear;, score=0.993 total time=   0.2s\n",
      "[CV 4/15] END C=5, degree=3, gamma=scale, kernel=linear;, score=0.982 total time=   0.1s\n",
      "[CV 5/15] END C=5, degree=3, gamma=scale, kernel=linear;, score=0.984 total time=   0.1s\n",
      "[CV 6/15] END C=5, degree=3, gamma=scale, kernel=linear;, score=0.984 total time=   0.1s\n",
      "[CV 7/15] END C=5, degree=3, gamma=scale, kernel=linear;, score=0.987 total time=   0.1s\n",
      "[CV 8/15] END C=5, degree=3, gamma=scale, kernel=linear;, score=0.991 total time=   0.1s\n",
      "[CV 9/15] END C=5, degree=3, gamma=scale, kernel=linear;, score=0.991 total time=   0.1s\n",
      "[CV 10/15] END C=5, degree=3, gamma=scale, kernel=linear;, score=0.984 total time=   0.1s\n",
      "[CV 11/15] END C=5, degree=3, gamma=scale, kernel=linear;, score=0.984 total time=   0.1s\n",
      "[CV 12/15] END C=5, degree=3, gamma=scale, kernel=linear;, score=0.991 total time=   0.1s\n",
      "[CV 13/15] END C=5, degree=3, gamma=scale, kernel=linear;, score=0.987 total time=   0.1s\n",
      "[CV 14/15] END C=5, degree=3, gamma=scale, kernel=linear;, score=0.978 total time=   0.1s\n",
      "[CV 15/15] END C=5, degree=3, gamma=scale, kernel=linear;, score=0.993 total time=   0.1s\n",
      "[CV 1/15] END C=6, degree=1, gamma=auto, kernel=linear;, score=0.984 total time=   0.1s\n",
      "[CV 2/15] END C=6, degree=1, gamma=auto, kernel=linear;, score=0.993 total time=   0.1s\n",
      "[CV 3/15] END C=6, degree=1, gamma=auto, kernel=linear;, score=0.993 total time=   0.1s\n",
      "[CV 4/15] END C=6, degree=1, gamma=auto, kernel=linear;, score=0.982 total time=   0.1s\n",
      "[CV 5/15] END C=6, degree=1, gamma=auto, kernel=linear;, score=0.984 total time=   0.1s\n",
      "[CV 6/15] END C=6, degree=1, gamma=auto, kernel=linear;, score=0.984 total time=   0.1s\n",
      "[CV 7/15] END C=6, degree=1, gamma=auto, kernel=linear;, score=0.987 total time=   0.1s\n",
      "[CV 8/15] END C=6, degree=1, gamma=auto, kernel=linear;, score=0.991 total time=   0.1s\n",
      "[CV 9/15] END C=6, degree=1, gamma=auto, kernel=linear;, score=0.991 total time=   0.1s\n",
      "[CV 10/15] END C=6, degree=1, gamma=auto, kernel=linear;, score=0.984 total time=   0.2s\n",
      "[CV 11/15] END C=6, degree=1, gamma=auto, kernel=linear;, score=0.984 total time=   0.1s\n",
      "[CV 12/15] END C=6, degree=1, gamma=auto, kernel=linear;, score=0.991 total time=   0.2s\n",
      "[CV 13/15] END C=6, degree=1, gamma=auto, kernel=linear;, score=0.987 total time=   0.2s\n",
      "[CV 14/15] END C=6, degree=1, gamma=auto, kernel=linear;, score=0.978 total time=   0.1s\n",
      "[CV 15/15] END C=6, degree=1, gamma=auto, kernel=linear;, score=0.993 total time=   0.1s\n",
      "[CV 1/15] END C=10, degree=9, gamma=scale, kernel=poly;, score=0.858 total time=   0.4s\n",
      "[CV 2/15] END C=10, degree=9, gamma=scale, kernel=poly;, score=0.769 total time=   0.6s\n",
      "[CV 3/15] END C=10, degree=9, gamma=scale, kernel=poly;, score=0.838 total time=   0.7s\n",
      "[CV 4/15] END C=10, degree=9, gamma=scale, kernel=poly;, score=0.780 total time=   0.6s\n",
      "[CV 5/15] END C=10, degree=9, gamma=scale, kernel=poly;, score=0.798 total time=   0.6s\n",
      "[CV 6/15] END C=10, degree=9, gamma=scale, kernel=poly;, score=0.807 total time=   0.5s\n",
      "[CV 7/15] END C=10, degree=9, gamma=scale, kernel=poly;, score=0.778 total time=   0.4s\n",
      "[CV 8/15] END C=10, degree=9, gamma=scale, kernel=poly;, score=0.827 total time=   0.4s\n",
      "[CV 9/15] END C=10, degree=9, gamma=scale, kernel=poly;, score=0.813 total time=   0.4s\n",
      "[CV 10/15] END C=10, degree=9, gamma=scale, kernel=poly;, score=0.816 total time=   0.3s\n",
      "[CV 11/15] END C=10, degree=9, gamma=scale, kernel=poly;, score=0.802 total time=   0.3s\n",
      "[CV 12/15] END C=10, degree=9, gamma=scale, kernel=poly;, score=0.802 total time=   0.4s\n",
      "[CV 13/15] END C=10, degree=9, gamma=scale, kernel=poly;, score=0.798 total time=   0.5s\n",
      "[CV 1/15] END C=3, degree=5, gamma=auto, kernel=linear;, score=0.982 total time=   0.2s\n",
      "[CV 14/15] END C=10, degree=9, gamma=scale, kernel=poly;, score=0.836 total time=   0.5s\n",
      "[CV 2/15] END C=3, degree=5, gamma=auto, kernel=linear;, score=0.993 total time=   0.1s\n",
      "[CV 15/15] END C=10, degree=9, gamma=scale, kernel=poly;, score=0.820 total time=   0.4s\n",
      "[CV 3/15] END C=3, degree=5, gamma=auto, kernel=linear;, score=0.993 total time=   0.1s\n",
      "[CV 4/15] END C=3, degree=5, gamma=auto, kernel=linear;, score=0.982 total time=   0.1s\n",
      "[CV 5/15] END C=3, degree=5, gamma=auto, kernel=linear;, score=0.984 total time=   0.1s\n",
      "[CV 6/15] END C=3, degree=5, gamma=auto, kernel=linear;, score=0.987 total time=   0.1s\n",
      "[CV 7/15] END C=3, degree=5, gamma=auto, kernel=linear;, score=0.987 total time=   0.1s\n",
      "[CV 8/15] END C=3, degree=5, gamma=auto, kernel=linear;, score=0.993 total time=   0.1s\n",
      "[CV 9/15] END C=3, degree=5, gamma=auto, kernel=linear;, score=0.991 total time=   0.1s\n",
      "[CV 10/15] END C=3, degree=5, gamma=auto, kernel=linear;, score=0.987 total time=   0.1s\n",
      "[CV 11/15] END C=3, degree=5, gamma=auto, kernel=linear;, score=0.984 total time=   0.1s\n",
      "[CV 12/15] END C=3, degree=5, gamma=auto, kernel=linear;, score=0.991 total time=   0.1s\n",
      "[CV 13/15] END C=3, degree=5, gamma=auto, kernel=linear;, score=0.989 total time=   0.1s\n",
      "[CV 14/15] END C=3, degree=5, gamma=auto, kernel=linear;, score=0.980 total time=   0.1s\n",
      "[CV 15/15] END C=3, degree=5, gamma=auto, kernel=linear;, score=0.993 total time=   0.1s\n",
      "[CV 1/15] END C=3, degree=5, gamma=auto, kernel=rbf;, score=0.982 total time=   0.6s\n",
      "[CV 2/15] END C=3, degree=5, gamma=auto, kernel=rbf;, score=0.984 total time=   0.5s\n",
      "[CV 3/15] END C=3, degree=5, gamma=auto, kernel=rbf;, score=0.987 total time=   0.4s\n",
      "[CV 4/15] END C=3, degree=5, gamma=auto, kernel=rbf;, score=0.971 total time=   0.4s\n",
      "[CV 5/15] END C=3, degree=5, gamma=auto, kernel=rbf;, score=0.982 total time=   0.4s\n",
      "[CV 6/15] END C=3, degree=5, gamma=auto, kernel=rbf;, score=0.969 total time=   0.4s\n",
      "[CV 7/15] END C=3, degree=5, gamma=auto, kernel=rbf;, score=0.980 total time=   0.4s\n",
      "[CV 8/15] END C=3, degree=5, gamma=auto, kernel=rbf;, score=0.984 total time=   0.4s\n",
      "[CV 9/15] END C=3, degree=5, gamma=auto, kernel=rbf;, score=0.978 total time=   0.4s\n",
      "[CV 10/15] END C=3, degree=5, gamma=auto, kernel=rbf;, score=0.980 total time=   0.4s\n",
      "[CV 11/15] END C=3, degree=5, gamma=auto, kernel=rbf;, score=0.982 total time=   0.4s\n",
      "[CV 12/15] END C=3, degree=5, gamma=auto, kernel=rbf;, score=0.989 total time=   0.4s\n",
      "[CV 13/15] END C=3, degree=5, gamma=auto, kernel=rbf;, score=0.987 total time=   0.4s\n",
      "[CV 14/15] END C=3, degree=5, gamma=auto, kernel=rbf;, score=0.976 total time=   0.4s\n",
      "[CV 15/15] END C=3, degree=5, gamma=auto, kernel=rbf;, score=0.969 total time=   0.4s\n",
      "[CV 1/15] END C=2, degree=5, gamma=auto, kernel=rbf;, score=0.971 total time=   0.4s\n",
      "[CV 2/15] END C=2, degree=5, gamma=auto, kernel=rbf;, score=0.978 total time=   0.5s\n",
      "[CV 3/15] END C=2, degree=5, gamma=auto, kernel=rbf;, score=0.989 total time=   0.5s\n",
      "[CV 4/15] END C=2, degree=5, gamma=auto, kernel=rbf;, score=0.967 total time=   0.5s\n",
      "[CV 5/15] END C=2, degree=5, gamma=auto, kernel=rbf;, score=0.980 total time=   0.5s\n",
      "[CV 6/15] END C=2, degree=5, gamma=auto, kernel=rbf;, score=0.960 total time=   0.5s\n",
      "[CV 7/15] END C=2, degree=5, gamma=auto, kernel=rbf;, score=0.976 total time=   0.5s\n",
      "[CV 8/15] END C=2, degree=5, gamma=auto, kernel=rbf;, score=0.980 total time=   0.5s\n",
      "[CV 9/15] END C=2, degree=5, gamma=auto, kernel=rbf;, score=0.964 total time=   0.5s\n",
      "[CV 10/15] END C=2, degree=5, gamma=auto, kernel=rbf;, score=0.980 total time=   0.5s\n",
      "[CV 11/15] END C=2, degree=5, gamma=auto, kernel=rbf;, score=0.976 total time=   0.5s\n",
      "[CV 12/15] END C=2, degree=5, gamma=auto, kernel=rbf;, score=0.982 total time=   0.5s\n",
      "[CV 1/15] END C=4, degree=5, gamma=auto, kernel=linear;, score=0.984 total time=   0.2s\n",
      "[CV 13/15] END C=2, degree=5, gamma=auto, kernel=rbf;, score=0.982 total time=   0.6s\n",
      "[CV 2/15] END C=4, degree=5, gamma=auto, kernel=linear;, score=0.993 total time=   0.3s\n",
      "[CV 14/15] END C=2, degree=5, gamma=auto, kernel=rbf;, score=0.967 total time=   0.6s\n",
      "[CV 3/15] END C=4, degree=5, gamma=auto, kernel=linear;, score=0.993 total time=   0.1s\n",
      "[CV 15/15] END C=2, degree=5, gamma=auto, kernel=rbf;, score=0.964 total time=   0.6s\n",
      "[CV 4/15] END C=4, degree=5, gamma=auto, kernel=linear;, score=0.982 total time=   0.1s\n",
      "[CV 5/15] END C=4, degree=5, gamma=auto, kernel=linear;, score=0.984 total time=   0.1s\n",
      "[CV 6/15] END C=4, degree=5, gamma=auto, kernel=linear;, score=0.984 total time=   0.2s\n",
      "[CV 7/15] END C=4, degree=5, gamma=auto, kernel=linear;, score=0.987 total time=   0.2s\n",
      "[CV 8/15] END C=4, degree=5, gamma=auto, kernel=linear;, score=0.991 total time=   0.1s\n",
      "[CV 9/15] END C=4, degree=5, gamma=auto, kernel=linear;, score=0.991 total time=   0.1s\n",
      "[CV 10/15] END C=4, degree=5, gamma=auto, kernel=linear;, score=0.984 total time=   0.1s\n",
      "[CV 11/15] END C=4, degree=5, gamma=auto, kernel=linear;, score=0.984 total time=   0.1s\n",
      "[CV 12/15] END C=4, degree=5, gamma=auto, kernel=linear;, score=0.991 total time=   0.1s\n",
      "[CV 13/15] END C=4, degree=5, gamma=auto, kernel=linear;, score=0.987 total time=   0.1s\n",
      "[CV 14/15] END C=4, degree=5, gamma=auto, kernel=linear;, score=0.980 total time=   0.1s\n",
      "[CV 15/15] END C=4, degree=5, gamma=auto, kernel=linear;, score=0.993 total time=   0.2s\n",
      "[CV 1/15] END C=6, degree=5, gamma=auto, kernel=poly;, score=0.973 total time=   0.3s\n",
      "[CV 2/15] END C=6, degree=5, gamma=auto, kernel=poly;, score=0.958 total time=   0.3s\n",
      "[CV 3/15] END C=6, degree=5, gamma=auto, kernel=poly;, score=0.967 total time=   0.3s\n",
      "[CV 4/15] END C=6, degree=5, gamma=auto, kernel=poly;, score=0.944 total time=   0.3s\n",
      "[CV 5/15] END C=6, degree=5, gamma=auto, kernel=poly;, score=0.964 total time=   0.4s\n",
      "[CV 6/15] END C=6, degree=5, gamma=auto, kernel=poly;, score=0.956 total time=   0.4s\n",
      "[CV 7/15] END C=6, degree=5, gamma=auto, kernel=poly;, score=0.953 total time=   0.4s\n",
      "[CV 8/15] END C=6, degree=5, gamma=auto, kernel=poly;, score=0.980 total time=   0.4s\n",
      "[CV 9/15] END C=6, degree=5, gamma=auto, kernel=poly;, score=0.960 total time=   0.3s\n",
      "[CV 10/15] END C=6, degree=5, gamma=auto, kernel=poly;, score=0.956 total time=   0.3s\n",
      "[CV 11/15] END C=6, degree=5, gamma=auto, kernel=poly;, score=0.962 total time=   0.2s\n",
      "[CV 12/15] END C=6, degree=5, gamma=auto, kernel=poly;, score=0.962 total time=   0.2s\n",
      "[CV 13/15] END C=6, degree=5, gamma=auto, kernel=poly;, score=0.958 total time=   0.2s\n",
      "[CV 14/15] END C=6, degree=5, gamma=auto, kernel=poly;, score=0.953 total time=   0.2s\n",
      "[CV 1/15] END C=8, degree=8, gamma=scale, kernel=linear;, score=0.984 total time=   0.1s\n",
      "[CV 15/15] END C=6, degree=5, gamma=auto, kernel=poly;, score=0.964 total time=   0.2s\n",
      "[CV 2/15] END C=8, degree=8, gamma=scale, kernel=linear;, score=0.993 total time=   0.1s\n",
      "[CV 3/15] END C=8, degree=8, gamma=scale, kernel=linear;, score=0.993 total time=   0.1s\n",
      "[CV 4/15] END C=8, degree=8, gamma=scale, kernel=linear;, score=0.982 total time=   0.1s\n",
      "[CV 5/15] END C=8, degree=8, gamma=scale, kernel=linear;, score=0.984 total time=   0.2s\n",
      "[CV 6/15] END C=8, degree=8, gamma=scale, kernel=linear;, score=0.984 total time=   0.1s\n",
      "[CV 7/15] END C=8, degree=8, gamma=scale, kernel=linear;, score=0.987 total time=   0.1s\n",
      "[CV 8/15] END C=8, degree=8, gamma=scale, kernel=linear;, score=0.991 total time=   0.2s\n",
      "[CV 9/15] END C=8, degree=8, gamma=scale, kernel=linear;, score=0.991 total time=   0.2s\n",
      "[CV 10/15] END C=8, degree=8, gamma=scale, kernel=linear;, score=0.984 total time=   0.1s\n",
      "[CV 11/15] END C=8, degree=8, gamma=scale, kernel=linear;, score=0.984 total time=   0.1s\n",
      "[CV 12/15] END C=8, degree=8, gamma=scale, kernel=linear;, score=0.991 total time=   0.1s\n",
      "[CV 13/15] END C=8, degree=8, gamma=scale, kernel=linear;, score=0.987 total time=   0.1s\n",
      "[CV 14/15] END C=8, degree=8, gamma=scale, kernel=linear;, score=0.978 total time=   0.1s\n",
      "[CV 15/15] END C=8, degree=8, gamma=scale, kernel=linear;, score=0.993 total time=   0.1s\n",
      "[CV 1/15] END C=3, degree=2, gamma=auto, kernel=rbf;, score=0.982 total time=   0.4s\n",
      "[CV 2/15] END C=3, degree=2, gamma=auto, kernel=rbf;, score=0.984 total time=   0.4s\n",
      "[CV 3/15] END C=3, degree=2, gamma=auto, kernel=rbf;, score=0.987 total time=   0.4s\n",
      "[CV 4/15] END C=3, degree=2, gamma=auto, kernel=rbf;, score=0.971 total time=   0.4s\n",
      "[CV 5/15] END C=3, degree=2, gamma=auto, kernel=rbf;, score=0.982 total time=   0.4s\n",
      "[CV 6/15] END C=3, degree=2, gamma=auto, kernel=rbf;, score=0.969 total time=   0.4s\n",
      "[CV 7/15] END C=3, degree=2, gamma=auto, kernel=rbf;, score=0.980 total time=   0.5s\n",
      "[CV 8/15] END C=3, degree=2, gamma=auto, kernel=rbf;, score=0.984 total time=   0.5s\n",
      "[CV 9/15] END C=3, degree=2, gamma=auto, kernel=rbf;, score=0.978 total time=   0.5s\n",
      "[CV 10/15] END C=3, degree=2, gamma=auto, kernel=rbf;, score=0.980 total time=   0.6s\n",
      "[CV 11/15] END C=3, degree=2, gamma=auto, kernel=rbf;, score=0.982 total time=   0.6s\n",
      "[CV 12/15] END C=3, degree=2, gamma=auto, kernel=rbf;, score=0.989 total time=   0.7s\n",
      "[CV 13/15] END C=3, degree=2, gamma=auto, kernel=rbf;, score=0.987 total time=   0.7s\n",
      "[CV 14/15] END C=3, degree=2, gamma=auto, kernel=rbf;, score=0.976 total time=   0.6s\n",
      "[CV 15/15] END C=3, degree=2, gamma=auto, kernel=rbf;, score=0.969 total time=   0.6s\n",
      "[CV 1/15] END C=2, degree=5, gamma=auto, kernel=poly;, score=0.893 total time=   0.6s\n",
      "[CV 2/15] END C=2, degree=5, gamma=auto, kernel=poly;, score=0.884 total time=   0.5s\n",
      "[CV 3/15] END C=2, degree=5, gamma=auto, kernel=poly;, score=0.920 total time=   0.5s\n",
      "[CV 4/15] END C=2, degree=5, gamma=auto, kernel=poly;, score=0.860 total time=   0.5s\n",
      "[CV 5/15] END C=2, degree=5, gamma=auto, kernel=poly;, score=0.898 total time=   0.4s\n",
      "[CV 6/15] END C=2, degree=5, gamma=auto, kernel=poly;, score=0.882 total time=   0.4s\n",
      "[CV 7/15] END C=2, degree=5, gamma=auto, kernel=poly;, score=0.880 total time=   0.4s\n",
      "[CV 8/15] END C=2, degree=5, gamma=auto, kernel=poly;, score=0.922 total time=   0.4s\n",
      "[CV 9/15] END C=2, degree=5, gamma=auto, kernel=poly;, score=0.884 total time=   0.4s\n",
      "[CV 10/15] END C=2, degree=5, gamma=auto, kernel=poly;, score=0.900 total time=   0.4s\n",
      "[CV 11/15] END C=2, degree=5, gamma=auto, kernel=poly;, score=0.893 total time=   0.4s\n",
      "[CV 12/15] END C=2, degree=5, gamma=auto, kernel=poly;, score=0.880 total time=   0.5s\n",
      "[CV 13/15] END C=2, degree=5, gamma=auto, kernel=poly;, score=0.891 total time=   0.5s\n",
      "[CV 14/15] END C=2, degree=5, gamma=auto, kernel=poly;, score=0.904 total time=   0.5s\n",
      "[CV 15/15] END C=2, degree=5, gamma=auto, kernel=poly;, score=0.902 total time=   0.4s\n",
      "[CV 1/15] END C=8, degree=3, gamma=scale, kernel=rbf;, score=0.991 total time=   0.3s\n",
      "[CV 2/15] END C=8, degree=3, gamma=scale, kernel=rbf;, score=0.989 total time=   0.4s\n",
      "[CV 3/15] END C=8, degree=3, gamma=scale, kernel=rbf;, score=0.989 total time=   0.4s\n",
      "[CV 4/15] END C=8, degree=3, gamma=scale, kernel=rbf;, score=0.976 total time=   0.5s\n",
      "[CV 5/15] END C=8, degree=3, gamma=scale, kernel=rbf;, score=0.989 total time=   0.5s\n",
      "[CV 6/15] END C=8, degree=3, gamma=scale, kernel=rbf;, score=0.982 total time=   0.5s\n",
      "[CV 7/15] END C=8, degree=3, gamma=scale, kernel=rbf;, score=0.989 total time=   0.5s\n",
      "[CV 8/15] END C=8, degree=3, gamma=scale, kernel=rbf;, score=0.993 total time=   0.4s\n",
      "[CV 9/15] END C=8, degree=3, gamma=scale, kernel=rbf;, score=0.987 total time=   0.4s\n",
      "[CV 10/15] END C=8, degree=3, gamma=scale, kernel=rbf;, score=0.984 total time=   0.4s\n",
      "[CV 11/15] END C=8, degree=3, gamma=scale, kernel=rbf;, score=0.984 total time=   0.5s\n",
      "[CV 12/15] END C=8, degree=3, gamma=scale, kernel=rbf;, score=0.996 total time=   0.5s\n",
      "[CV 13/15] END C=8, degree=3, gamma=scale, kernel=rbf;, score=0.991 total time=   0.4s\n",
      "[CV 14/15] END C=8, degree=3, gamma=scale, kernel=rbf;, score=0.984 total time=   0.4s\n",
      "[CV 15/15] END C=8, degree=3, gamma=scale, kernel=rbf;, score=0.976 total time=   0.3s\n",
      "[CV 1/15] END C=10, degree=3, gamma=auto, kernel=poly;, score=0.984 total time=   0.2s\n",
      "[CV 2/15] END C=10, degree=3, gamma=auto, kernel=poly;, score=0.989 total time=   0.2s\n",
      "[CV 3/15] END C=10, degree=3, gamma=auto, kernel=poly;, score=0.984 total time=   0.2s\n",
      "[CV 4/15] END C=10, degree=3, gamma=auto, kernel=poly;, score=0.976 total time=   0.2s\n",
      "[CV 5/15] END C=10, degree=3, gamma=auto, kernel=poly;, score=0.982 total time=   0.2s\n",
      "[CV 6/15] END C=10, degree=3, gamma=auto, kernel=poly;, score=0.978 total time=   0.1s\n",
      "[CV 7/15] END C=10, degree=3, gamma=auto, kernel=poly;, score=0.984 total time=   0.1s\n",
      "[CV 8/15] END C=10, degree=3, gamma=auto, kernel=poly;, score=0.991 total time=   0.1s\n",
      "[CV 9/15] END C=10, degree=3, gamma=auto, kernel=poly;, score=0.984 total time=   0.1s\n",
      "[CV 10/15] END C=10, degree=3, gamma=auto, kernel=poly;, score=0.982 total time=   0.1s\n",
      "[CV 11/15] END C=10, degree=3, gamma=auto, kernel=poly;, score=0.980 total time=   0.1s\n",
      "[CV 12/15] END C=10, degree=3, gamma=auto, kernel=poly;, score=0.991 total time=   0.2s\n",
      "[CV 13/15] END C=10, degree=3, gamma=auto, kernel=poly;, score=0.991 total time=   0.2s\n",
      "[CV 14/15] END C=10, degree=3, gamma=auto, kernel=poly;, score=0.984 total time=   0.3s\n",
      "[CV 15/15] END C=10, degree=3, gamma=auto, kernel=poly;, score=0.976 total time=   0.3s\n",
      "[CV 1/15] END C=3, degree=1, gamma=scale, kernel=poly;, score=0.962 total time=   0.4s\n",
      "[CV 2/15] END C=3, degree=1, gamma=scale, kernel=poly;, score=0.967 total time=   0.5s\n",
      "[CV 3/15] END C=3, degree=1, gamma=scale, kernel=poly;, score=0.973 total time=   0.5s\n",
      "[CV 4/15] END C=3, degree=1, gamma=scale, kernel=poly;, score=0.951 total time=   0.5s\n",
      "[CV 5/15] END C=3, degree=1, gamma=scale, kernel=poly;, score=0.978 total time=   0.5s\n",
      "[CV 6/15] END C=3, degree=1, gamma=scale, kernel=poly;, score=0.958 total time=   0.5s\n",
      "[CV 7/15] END C=3, degree=1, gamma=scale, kernel=poly;, score=0.967 total time=   0.6s\n",
      "[CV 8/15] END C=3, degree=1, gamma=scale, kernel=poly;, score=0.973 total time=   0.7s\n",
      "[CV 9/15] END C=3, degree=1, gamma=scale, kernel=poly;, score=0.964 total time=   0.7s\n",
      "[CV 10/15] END C=3, degree=1, gamma=scale, kernel=poly;, score=0.980 total time=   0.6s\n",
      "[CV 11/15] END C=3, degree=1, gamma=scale, kernel=poly;, score=0.973 total time=   0.6s\n",
      "[CV 12/15] END C=3, degree=1, gamma=scale, kernel=poly;, score=0.969 total time=   0.5s\n",
      "[CV 13/15] END C=3, degree=1, gamma=scale, kernel=poly;, score=0.969 total time=   0.5s\n",
      "[CV 1/15] END C=7, degree=8, gamma=auto, kernel=linear;, score=0.984 total time=   0.2s\n",
      "[CV 14/15] END C=3, degree=1, gamma=scale, kernel=poly;, score=0.956 total time=   0.5s\n",
      "[CV 15/15] END C=3, degree=1, gamma=scale, kernel=poly;, score=0.960 total time=   0.5s\n",
      "[CV 2/15] END C=7, degree=8, gamma=auto, kernel=linear;, score=0.993 total time=   0.2s\n",
      "[CV 3/15] END C=7, degree=8, gamma=auto, kernel=linear;, score=0.993 total time=   0.1s\n",
      "[CV 4/15] END C=7, degree=8, gamma=auto, kernel=linear;, score=0.982 total time=   0.1s\n",
      "[CV 5/15] END C=7, degree=8, gamma=auto, kernel=linear;, score=0.984 total time=   0.1s\n",
      "[CV 6/15] END C=7, degree=8, gamma=auto, kernel=linear;, score=0.984 total time=   0.1s\n",
      "[CV 7/15] END C=7, degree=8, gamma=auto, kernel=linear;, score=0.987 total time=   0.1s\n",
      "[CV 8/15] END C=7, degree=8, gamma=auto, kernel=linear;, score=0.991 total time=   0.1s\n",
      "[CV 9/15] END C=7, degree=8, gamma=auto, kernel=linear;, score=0.991 total time=   0.1s\n",
      "[CV 10/15] END C=7, degree=8, gamma=auto, kernel=linear;, score=0.984 total time=   0.1s\n",
      "[CV 11/15] END C=7, degree=8, gamma=auto, kernel=linear;, score=0.984 total time=   0.1s\n",
      "[CV 12/15] END C=7, degree=8, gamma=auto, kernel=linear;, score=0.991 total time=   0.1s\n",
      "[CV 13/15] END C=7, degree=8, gamma=auto, kernel=linear;, score=0.987 total time=   0.1s\n",
      "[CV 14/15] END C=7, degree=8, gamma=auto, kernel=linear;, score=0.978 total time=   0.1s\n",
      "[CV 15/15] END C=7, degree=8, gamma=auto, kernel=linear;, score=0.993 total time=   0.1s\n",
      "[CV 1/15] END C=1, degree=4, gamma=scale, kernel=rbf;, score=0.949 total time=   0.6s\n",
      "[CV 2/15] END C=1, degree=4, gamma=scale, kernel=rbf;, score=0.958 total time=   0.7s\n",
      "[CV 3/15] END C=1, degree=4, gamma=scale, kernel=rbf;, score=0.960 total time=   0.7s\n",
      "[CV 4/15] END C=1, degree=4, gamma=scale, kernel=rbf;, score=0.947 total time=   0.8s\n",
      "[CV 5/15] END C=1, degree=4, gamma=scale, kernel=rbf;, score=0.969 total time=   0.8s\n",
      "[CV 6/15] END C=1, degree=4, gamma=scale, kernel=rbf;, score=0.942 total time=   0.8s\n",
      "[CV 7/15] END C=1, degree=4, gamma=scale, kernel=rbf;, score=0.958 total time=   0.8s\n",
      "[CV 8/15] END C=1, degree=4, gamma=scale, kernel=rbf;, score=0.964 total time=   0.9s\n",
      "[CV 9/15] END C=1, degree=4, gamma=scale, kernel=rbf;, score=0.944 total time=   0.9s\n",
      "[CV 10/15] END C=1, degree=4, gamma=scale, kernel=rbf;, score=0.971 total time=   0.9s\n",
      "[CV 11/15] END C=1, degree=4, gamma=scale, kernel=rbf;, score=0.962 total time=   0.9s\n",
      "[CV 12/15] END C=1, degree=4, gamma=scale, kernel=rbf;, score=0.951 total time=   0.8s\n",
      "[CV 13/15] END C=1, degree=4, gamma=scale, kernel=rbf;, score=0.964 total time=   0.8s\n",
      "[CV 14/15] END C=1, degree=4, gamma=scale, kernel=rbf;, score=0.951 total time=   0.8s\n",
      "[CV 1/15] END C=3, degree=5, gamma=auto, kernel=sigmoid;, score=0.507 total time=   0.6s\n",
      "[CV 15/15] END C=1, degree=4, gamma=scale, kernel=rbf;, score=0.944 total time=   0.8s\n",
      "[CV 2/15] END C=3, degree=5, gamma=auto, kernel=sigmoid;, score=0.580 total time=   0.6s\n",
      "[CV 3/15] END C=3, degree=5, gamma=auto, kernel=sigmoid;, score=0.542 total time=   0.7s\n",
      "[CV 4/15] END C=3, degree=5, gamma=auto, kernel=sigmoid;, score=0.591 total time=   0.8s\n",
      "[CV 5/15] END C=3, degree=5, gamma=auto, kernel=sigmoid;, score=0.531 total time=   0.9s\n",
      "[CV 6/15] END C=3, degree=5, gamma=auto, kernel=sigmoid;, score=0.573 total time=   0.9s\n",
      "[CV 7/15] END C=3, degree=5, gamma=auto, kernel=sigmoid;, score=0.580 total time=   0.9s\n",
      "[CV 8/15] END C=3, degree=5, gamma=auto, kernel=sigmoid;, score=0.533 total time=   0.9s\n",
      "[CV 9/15] END C=3, degree=5, gamma=auto, kernel=sigmoid;, score=0.562 total time=   0.9s\n",
      "[CV 10/15] END C=3, degree=5, gamma=auto, kernel=sigmoid;, score=0.544 total time=   0.9s\n",
      "[CV 11/15] END C=3, degree=5, gamma=auto, kernel=sigmoid;, score=0.562 total time=   0.8s\n",
      "[CV 12/15] END C=3, degree=5, gamma=auto, kernel=sigmoid;, score=0.544 total time=   0.8s\n",
      "[CV 13/15] END C=3, degree=5, gamma=auto, kernel=sigmoid;, score=0.538 total time=   0.7s\n",
      "[CV 1/15] END C=8, degree=2, gamma=scale, kernel=poly;, score=0.984 total time=   0.3s\n",
      "[CV 14/15] END C=3, degree=5, gamma=auto, kernel=sigmoid;, score=0.542 total time=   0.6s\n",
      "[CV 2/15] END C=8, degree=2, gamma=scale, kernel=poly;, score=0.991 total time=   0.3s\n",
      "[CV 15/15] END C=3, degree=5, gamma=auto, kernel=sigmoid;, score=0.558 total time=   0.6s\n",
      "[CV 3/15] END C=8, degree=2, gamma=scale, kernel=poly;, score=0.989 total time=   0.2s\n",
      "[CV 4/15] END C=8, degree=2, gamma=scale, kernel=poly;, score=0.978 total time=   0.2s\n",
      "[CV 5/15] END C=8, degree=2, gamma=scale, kernel=poly;, score=0.987 total time=   0.2s\n",
      "[CV 6/15] END C=8, degree=2, gamma=scale, kernel=poly;, score=0.978 total time=   0.3s\n",
      "[CV 7/15] END C=8, degree=2, gamma=scale, kernel=poly;, score=0.984 total time=   0.3s\n",
      "[CV 8/15] END C=8, degree=2, gamma=scale, kernel=poly;, score=0.996 total time=   0.4s\n",
      "[CV 9/15] END C=8, degree=2, gamma=scale, kernel=poly;, score=0.980 total time=   0.4s\n",
      "[CV 10/15] END C=8, degree=2, gamma=scale, kernel=poly;, score=0.982 total time=   0.3s\n",
      "[CV 11/15] END C=8, degree=2, gamma=scale, kernel=poly;, score=0.987 total time=   0.2s\n",
      "[CV 12/15] END C=8, degree=2, gamma=scale, kernel=poly;, score=0.991 total time=   0.2s\n",
      "[CV 13/15] END C=8, degree=2, gamma=scale, kernel=poly;, score=0.991 total time=   0.3s\n",
      "[CV 14/15] END C=8, degree=2, gamma=scale, kernel=poly;, score=0.978 total time=   0.3s\n",
      "[CV 15/15] END C=8, degree=2, gamma=scale, kernel=poly;, score=0.976 total time=   0.4s\n",
      "[CV 1/15] END C=1, degree=0, gamma=scale, kernel=linear;, score=0.984 total time=   0.2s\n",
      "[CV 2/15] END C=1, degree=0, gamma=scale, kernel=linear;, score=0.993 total time=   0.2s\n",
      "[CV 3/15] END C=1, degree=0, gamma=scale, kernel=linear;, score=0.991 total time=   0.2s\n",
      "[CV 4/15] END C=1, degree=0, gamma=scale, kernel=linear;, score=0.982 total time=   0.1s\n",
      "[CV 5/15] END C=1, degree=0, gamma=scale, kernel=linear;, score=0.989 total time=   0.1s\n",
      "[CV 6/15] END C=1, degree=0, gamma=scale, kernel=linear;, score=0.987 total time=   0.1s\n",
      "[CV 7/15] END C=1, degree=0, gamma=scale, kernel=linear;, score=0.987 total time=   0.1s\n",
      "[CV 8/15] END C=1, degree=0, gamma=scale, kernel=linear;, score=0.991 total time=   0.1s\n",
      "[CV 9/15] END C=1, degree=0, gamma=scale, kernel=linear;, score=0.989 total time=   0.1s\n",
      "[CV 10/15] END C=1, degree=0, gamma=scale, kernel=linear;, score=0.989 total time=   0.1s\n",
      "[CV 11/15] END C=1, degree=0, gamma=scale, kernel=linear;, score=0.982 total time=   0.1s\n",
      "[CV 12/15] END C=1, degree=0, gamma=scale, kernel=linear;, score=0.993 total time=   0.1s\n",
      "[CV 13/15] END C=1, degree=0, gamma=scale, kernel=linear;, score=0.989 total time=   0.1s\n",
      "[CV 14/15] END C=1, degree=0, gamma=scale, kernel=linear;, score=0.982 total time=   0.1s\n",
      "[CV 15/15] END C=1, degree=0, gamma=scale, kernel=linear;, score=0.993 total time=   0.1s\n",
      "[CV 1/15] END C=9, degree=1, gamma=auto, kernel=rbf;, score=0.991 total time=   0.2s\n",
      "[CV 2/15] END C=9, degree=1, gamma=auto, kernel=rbf;, score=0.989 total time=   0.2s\n",
      "[CV 3/15] END C=9, degree=1, gamma=auto, kernel=rbf;, score=0.989 total time=   0.2s\n",
      "[CV 4/15] END C=9, degree=1, gamma=auto, kernel=rbf;, score=0.978 total time=   0.2s\n",
      "[CV 5/15] END C=9, degree=1, gamma=auto, kernel=rbf;, score=0.989 total time=   0.3s\n",
      "[CV 6/15] END C=9, degree=1, gamma=auto, kernel=rbf;, score=0.984 total time=   0.2s\n",
      "[CV 7/15] END C=9, degree=1, gamma=auto, kernel=rbf;, score=0.989 total time=   0.2s\n",
      "[CV 8/15] END C=9, degree=1, gamma=auto, kernel=rbf;, score=0.998 total time=   0.3s\n",
      "[CV 9/15] END C=9, degree=1, gamma=auto, kernel=rbf;, score=0.987 total time=   0.3s\n",
      "[CV 10/15] END C=9, degree=1, gamma=auto, kernel=rbf;, score=0.984 total time=   0.3s\n",
      "[CV 11/15] END C=9, degree=1, gamma=auto, kernel=rbf;, score=0.984 total time=   0.2s\n",
      "[CV 12/15] END C=9, degree=1, gamma=auto, kernel=rbf;, score=0.996 total time=   0.2s\n",
      "[CV 13/15] END C=9, degree=1, gamma=auto, kernel=rbf;, score=0.989 total time=   0.2s\n",
      "[CV 14/15] END C=9, degree=1, gamma=auto, kernel=rbf;, score=0.984 total time=   0.2s\n",
      "[CV 15/15] END C=9, degree=1, gamma=auto, kernel=rbf;, score=0.980 total time=   0.2s\n",
      "[CV 1/15] END C=3, degree=1, gamma=scale, kernel=sigmoid;, score=0.520 total time=   0.5s\n",
      "[CV 2/15] END C=3, degree=1, gamma=scale, kernel=sigmoid;, score=0.578 total time=   0.7s\n",
      "[CV 3/15] END C=3, degree=1, gamma=scale, kernel=sigmoid;, score=0.538 total time=   0.9s\n",
      "[CV 4/15] END C=3, degree=1, gamma=scale, kernel=sigmoid;, score=0.593 total time=   1.0s\n",
      "[CV 5/15] END C=3, degree=1, gamma=scale, kernel=sigmoid;, score=0.538 total time=   1.0s\n",
      "[CV 6/15] END C=3, degree=1, gamma=scale, kernel=sigmoid;, score=0.562 total time=   0.9s\n",
      "[CV 7/15] END C=3, degree=1, gamma=scale, kernel=sigmoid;, score=0.580 total time=   0.8s\n",
      "[CV 8/15] END C=3, degree=1, gamma=scale, kernel=sigmoid;, score=0.531 total time=   0.7s\n",
      "[CV 9/15] END C=3, degree=1, gamma=scale, kernel=sigmoid;, score=0.564 total time=   0.6s\n",
      "[CV 10/15] END C=3, degree=1, gamma=scale, kernel=sigmoid;, score=0.540 total time=   0.6s\n",
      "[CV 11/15] END C=3, degree=1, gamma=scale, kernel=sigmoid;, score=0.580 total time=   0.6s\n",
      "[CV 12/15] END C=3, degree=1, gamma=scale, kernel=sigmoid;, score=0.540 total time=   0.6s\n",
      "[CV 13/15] END C=3, degree=1, gamma=scale, kernel=sigmoid;, score=0.542 total time=   0.6s\n",
      "[CV 14/15] END C=3, degree=1, gamma=scale, kernel=sigmoid;, score=0.547 total time=   0.5s\n",
      "[CV 15/15] END C=3, degree=1, gamma=scale, kernel=sigmoid;, score=0.589 total time=   0.6s\n",
      "[CV 1/15] END C=2, degree=2, gamma=auto, kernel=rbf;, score=0.971 total time=   0.5s\n",
      "[CV 2/15] END C=2, degree=2, gamma=auto, kernel=rbf;, score=0.978 total time=   0.5s\n",
      "[CV 3/15] END C=2, degree=2, gamma=auto, kernel=rbf;, score=0.989 total time=   0.5s\n",
      "[CV 4/15] END C=2, degree=2, gamma=auto, kernel=rbf;, score=0.967 total time=   0.5s\n",
      "[CV 5/15] END C=2, degree=2, gamma=auto, kernel=rbf;, score=0.980 total time=   0.5s\n",
      "[CV 6/15] END C=2, degree=2, gamma=auto, kernel=rbf;, score=0.960 total time=   0.5s\n",
      "[CV 7/15] END C=2, degree=2, gamma=auto, kernel=rbf;, score=0.976 total time=   0.5s\n",
      "[CV 8/15] END C=2, degree=2, gamma=auto, kernel=rbf;, score=0.980 total time=   0.5s\n",
      "[CV 9/15] END C=2, degree=2, gamma=auto, kernel=rbf;, score=0.964 total time=   0.5s\n",
      "[CV 10/15] END C=2, degree=2, gamma=auto, kernel=rbf;, score=0.980 total time=   0.6s\n",
      "[CV 11/15] END C=2, degree=2, gamma=auto, kernel=rbf;, score=0.976 total time=   0.6s\n",
      "[CV 12/15] END C=2, degree=2, gamma=auto, kernel=rbf;, score=0.982 total time=   0.7s\n",
      "[CV 1/15] END C=3, degree=1, gamma=auto, kernel=linear;, score=0.982 total time=   0.2s\n",
      "[CV 13/15] END C=2, degree=2, gamma=auto, kernel=rbf;, score=0.982 total time=   0.8s\n",
      "[CV 2/15] END C=3, degree=1, gamma=auto, kernel=linear;, score=0.993 total time=   0.2s\n",
      "[CV 14/15] END C=2, degree=2, gamma=auto, kernel=rbf;, score=0.967 total time=   0.7s\n",
      "[CV 15/15] END C=2, degree=2, gamma=auto, kernel=rbf;, score=0.964 total time=   0.6s\n",
      "[CV 3/15] END C=3, degree=1, gamma=auto, kernel=linear;, score=0.993 total time=   0.1s\n",
      "[CV 4/15] END C=3, degree=1, gamma=auto, kernel=linear;, score=0.982 total time=   0.1s\n",
      "[CV 5/15] END C=3, degree=1, gamma=auto, kernel=linear;, score=0.984 total time=   0.1s\n",
      "[CV 6/15] END C=3, degree=1, gamma=auto, kernel=linear;, score=0.987 total time=   0.1s\n",
      "[CV 7/15] END C=3, degree=1, gamma=auto, kernel=linear;, score=0.987 total time=   0.1s\n",
      "[CV 8/15] END C=3, degree=1, gamma=auto, kernel=linear;, score=0.993 total time=   0.1s\n",
      "[CV 9/15] END C=3, degree=1, gamma=auto, kernel=linear;, score=0.991 total time=   0.1s\n",
      "[CV 10/15] END C=3, degree=1, gamma=auto, kernel=linear;, score=0.987 total time=   0.1s\n",
      "[CV 11/15] END C=3, degree=1, gamma=auto, kernel=linear;, score=0.984 total time=   0.1s\n",
      "[CV 12/15] END C=3, degree=1, gamma=auto, kernel=linear;, score=0.991 total time=   0.1s\n",
      "[CV 13/15] END C=3, degree=1, gamma=auto, kernel=linear;, score=0.989 total time=   0.1s\n",
      "[CV 14/15] END C=3, degree=1, gamma=auto, kernel=linear;, score=0.980 total time=   0.1s\n",
      "[CV 15/15] END C=3, degree=1, gamma=auto, kernel=linear;, score=0.993 total time=   0.1s\n",
      "[CV 1/15] END C=5, degree=5, gamma=auto, kernel=poly;, score=0.969 total time=   0.2s\n",
      "[CV 2/15] END C=5, degree=5, gamma=auto, kernel=poly;, score=0.940 total time=   0.3s\n",
      "[CV 3/15] END C=5, degree=5, gamma=auto, kernel=poly;, score=0.960 total time=   0.3s\n",
      "[CV 4/15] END C=5, degree=5, gamma=auto, kernel=poly;, score=0.942 total time=   0.3s\n",
      "[CV 5/15] END C=5, degree=5, gamma=auto, kernel=poly;, score=0.960 total time=   0.3s\n",
      "[CV 6/15] END C=5, degree=5, gamma=auto, kernel=poly;, score=0.949 total time=   0.4s\n",
      "[CV 7/15] END C=5, degree=5, gamma=auto, kernel=poly;, score=0.951 total time=   0.4s\n",
      "[CV 8/15] END C=5, degree=5, gamma=auto, kernel=poly;, score=0.978 total time=   0.4s\n",
      "[CV 9/15] END C=5, degree=5, gamma=auto, kernel=poly;, score=0.953 total time=   0.3s\n",
      "[CV 10/15] END C=5, degree=5, gamma=auto, kernel=poly;, score=0.953 total time=   0.4s\n",
      "[CV 11/15] END C=5, degree=5, gamma=auto, kernel=poly;, score=0.960 total time=   0.3s\n",
      "[CV 12/15] END C=5, degree=5, gamma=auto, kernel=poly;, score=0.962 total time=   0.3s\n",
      "[CV 13/15] END C=5, degree=5, gamma=auto, kernel=poly;, score=0.953 total time=   0.3s\n",
      "[CV 14/15] END C=5, degree=5, gamma=auto, kernel=poly;, score=0.951 total time=   0.4s\n",
      "[CV 15/15] END C=5, degree=5, gamma=auto, kernel=poly;, score=0.958 total time=   0.3s\n",
      "[CV 1/15] END C=8, degree=6, gamma=scale, kernel=sigmoid;, score=0.462 total time=   0.4s\n",
      "[CV 2/15] END C=8, degree=6, gamma=scale, kernel=sigmoid;, score=0.478 total time=   0.4s\n",
      "[CV 3/15] END C=8, degree=6, gamma=scale, kernel=sigmoid;, score=0.471 total time=   0.5s\n",
      "[CV 4/15] END C=8, degree=6, gamma=scale, kernel=sigmoid;, score=0.529 total time=   0.5s\n",
      "[CV 5/15] END C=8, degree=6, gamma=scale, kernel=sigmoid;, score=0.478 total time=   0.5s\n",
      "[CV 6/15] END C=8, degree=6, gamma=scale, kernel=sigmoid;, score=0.516 total time=   0.5s\n",
      "[CV 7/15] END C=8, degree=6, gamma=scale, kernel=sigmoid;, score=0.500 total time=   0.6s\n",
      "[CV 8/15] END C=8, degree=6, gamma=scale, kernel=sigmoid;, score=0.451 total time=   0.6s\n",
      "[CV 9/15] END C=8, degree=6, gamma=scale, kernel=sigmoid;, score=0.491 total time=   0.6s\n",
      "[CV 10/15] END C=8, degree=6, gamma=scale, kernel=sigmoid;, score=0.471 total time=   0.5s\n",
      "[CV 11/15] END C=8, degree=6, gamma=scale, kernel=sigmoid;, score=0.513 total time=   0.5s\n",
      "[CV 12/15] END C=8, degree=6, gamma=scale, kernel=sigmoid;, score=0.460 total time=   0.5s\n",
      "[CV 13/15] END C=8, degree=6, gamma=scale, kernel=sigmoid;, score=0.473 total time=   0.6s\n",
      "[CV 14/15] END C=8, degree=6, gamma=scale, kernel=sigmoid;, score=0.487 total time=   0.5s\n",
      "[CV 15/15] END C=8, degree=6, gamma=scale, kernel=sigmoid;, score=0.518 total time=   0.5s\n",
      "[CV 1/15] END C=7, degree=6, gamma=auto, kernel=rbf;, score=0.991 total time=   0.4s\n",
      "[CV 2/15] END C=7, degree=6, gamma=auto, kernel=rbf;, score=0.989 total time=   0.3s\n",
      "[CV 3/15] END C=7, degree=6, gamma=auto, kernel=rbf;, score=0.989 total time=   0.3s\n",
      "[CV 4/15] END C=7, degree=6, gamma=auto, kernel=rbf;, score=0.976 total time=   0.3s\n",
      "[CV 5/15] END C=7, degree=6, gamma=auto, kernel=rbf;, score=0.989 total time=   0.3s\n",
      "[CV 6/15] END C=7, degree=6, gamma=auto, kernel=rbf;, score=0.980 total time=   0.3s\n",
      "[CV 7/15] END C=7, degree=6, gamma=auto, kernel=rbf;, score=0.989 total time=   0.3s\n",
      "[CV 8/15] END C=7, degree=6, gamma=auto, kernel=rbf;, score=0.993 total time=   0.4s\n",
      "[CV 9/15] END C=7, degree=6, gamma=auto, kernel=rbf;, score=0.987 total time=   0.4s\n",
      "[CV 10/15] END C=7, degree=6, gamma=auto, kernel=rbf;, score=0.982 total time=   0.4s\n",
      "[CV 11/15] END C=7, degree=6, gamma=auto, kernel=rbf;, score=0.984 total time=   0.5s\n",
      "[CV 12/15] END C=7, degree=6, gamma=auto, kernel=rbf;, score=0.991 total time=   0.5s\n",
      "[CV 13/15] END C=7, degree=6, gamma=auto, kernel=rbf;, score=0.991 total time=   0.4s\n",
      "[CV 14/15] END C=7, degree=6, gamma=auto, kernel=rbf;, score=0.984 total time=   0.3s\n",
      "[CV 1/15] END C=7, degree=10, gamma=auto, kernel=linear;, score=0.984 total time=   0.1s\n",
      "[CV 15/15] END C=7, degree=6, gamma=auto, kernel=rbf;, score=0.980 total time=   0.3s\n",
      "[CV 2/15] END C=7, degree=10, gamma=auto, kernel=linear;, score=0.993 total time=   0.1s\n",
      "[CV 3/15] END C=7, degree=10, gamma=auto, kernel=linear;, score=0.993 total time=   0.1s\n",
      "[CV 4/15] END C=7, degree=10, gamma=auto, kernel=linear;, score=0.982 total time=   0.1s\n",
      "[CV 5/15] END C=7, degree=10, gamma=auto, kernel=linear;, score=0.984 total time=   0.1s\n",
      "[CV 6/15] END C=7, degree=10, gamma=auto, kernel=linear;, score=0.984 total time=   0.1s\n",
      "[CV 7/15] END C=7, degree=10, gamma=auto, kernel=linear;, score=0.987 total time=   0.1s\n",
      "[CV 8/15] END C=7, degree=10, gamma=auto, kernel=linear;, score=0.991 total time=   0.1s\n",
      "[CV 9/15] END C=7, degree=10, gamma=auto, kernel=linear;, score=0.991 total time=   0.1s\n",
      "[CV 10/15] END C=7, degree=10, gamma=auto, kernel=linear;, score=0.984 total time=   0.1s\n",
      "[CV 11/15] END C=7, degree=10, gamma=auto, kernel=linear;, score=0.984 total time=   0.1s\n",
      "[CV 12/15] END C=7, degree=10, gamma=auto, kernel=linear;, score=0.991 total time=   0.2s\n",
      "[CV 13/15] END C=7, degree=10, gamma=auto, kernel=linear;, score=0.987 total time=   0.2s\n",
      "[CV 14/15] END C=7, degree=10, gamma=auto, kernel=linear;, score=0.978 total time=   0.2s\n",
      "[CV 15/15] END C=7, degree=10, gamma=auto, kernel=linear;, score=0.993 total time=   0.2s\n",
      "[CV 1/15] END C=10, degree=1, gamma=scale, kernel=rbf;, score=0.991 total time=   0.3s\n",
      "[CV 2/15] END C=10, degree=1, gamma=scale, kernel=rbf;, score=0.989 total time=   0.3s\n",
      "[CV 3/15] END C=10, degree=1, gamma=scale, kernel=rbf;, score=0.991 total time=   0.3s\n",
      "[CV 4/15] END C=10, degree=1, gamma=scale, kernel=rbf;, score=0.978 total time=   0.3s\n",
      "[CV 5/15] END C=10, degree=1, gamma=scale, kernel=rbf;, score=0.987 total time=   0.3s\n",
      "[CV 6/15] END C=10, degree=1, gamma=scale, kernel=rbf;, score=0.984 total time=   0.3s\n",
      "[CV 7/15] END C=10, degree=1, gamma=scale, kernel=rbf;, score=0.989 total time=   0.3s\n",
      "[CV 8/15] END C=10, degree=1, gamma=scale, kernel=rbf;, score=0.998 total time=   0.4s\n",
      "[CV 9/15] END C=10, degree=1, gamma=scale, kernel=rbf;, score=0.991 total time=   0.4s\n",
      "[CV 10/15] END C=10, degree=1, gamma=scale, kernel=rbf;, score=0.984 total time=   0.3s\n",
      "[CV 11/15] END C=10, degree=1, gamma=scale, kernel=rbf;, score=0.984 total time=   0.3s\n",
      "[CV 12/15] END C=10, degree=1, gamma=scale, kernel=rbf;, score=0.996 total time=   0.3s\n",
      "[CV 13/15] END C=10, degree=1, gamma=scale, kernel=rbf;, score=0.991 total time=   0.4s\n",
      "[CV 14/15] END C=10, degree=1, gamma=scale, kernel=rbf;, score=0.987 total time=   0.3s\n",
      "[CV 15/15] END C=10, degree=1, gamma=scale, kernel=rbf;, score=0.980 total time=   0.3s\n",
      "[CV 1/15] END C=5, degree=2, gamma=auto, kernel=poly;, score=0.982 total time=   0.3s\n",
      "[CV 2/15] END C=5, degree=2, gamma=auto, kernel=poly;, score=0.987 total time=   0.3s\n",
      "[CV 3/15] END C=5, degree=2, gamma=auto, kernel=poly;, score=0.987 total time=   0.2s\n",
      "[CV 4/15] END C=5, degree=2, gamma=auto, kernel=poly;, score=0.973 total time=   0.3s\n",
      "[CV 5/15] END C=5, degree=2, gamma=auto, kernel=poly;, score=0.984 total time=   0.3s\n",
      "[CV 6/15] END C=5, degree=2, gamma=auto, kernel=poly;, score=0.976 total time=   0.3s\n",
      "[CV 7/15] END C=5, degree=2, gamma=auto, kernel=poly;, score=0.984 total time=   0.3s\n",
      "[CV 8/15] END C=5, degree=2, gamma=auto, kernel=poly;, score=0.989 total time=   0.2s\n",
      "[CV 9/15] END C=5, degree=2, gamma=auto, kernel=poly;, score=0.973 total time=   0.2s\n",
      "[CV 10/15] END C=5, degree=2, gamma=auto, kernel=poly;, score=0.980 total time=   0.3s\n",
      "[CV 11/15] END C=5, degree=2, gamma=auto, kernel=poly;, score=0.987 total time=   0.2s\n",
      "[CV 12/15] END C=5, degree=2, gamma=auto, kernel=poly;, score=0.989 total time=   0.2s\n",
      "[CV 13/15] END C=5, degree=2, gamma=auto, kernel=poly;, score=0.989 total time=   0.2s\n",
      "[CV 14/15] END C=5, degree=2, gamma=auto, kernel=poly;, score=0.976 total time=   0.2s\n",
      "[CV 15/15] END C=5, degree=2, gamma=auto, kernel=poly;, score=0.976 total time=   0.3s\n",
      "[CV 1/15] END C=7, degree=2, gamma=scale, kernel=rbf;, score=0.991 total time=   0.4s\n",
      "[CV 2/15] END C=7, degree=2, gamma=scale, kernel=rbf;, score=0.989 total time=   0.4s\n",
      "[CV 3/15] END C=7, degree=2, gamma=scale, kernel=rbf;, score=0.989 total time=   0.4s\n",
      "[CV 4/15] END C=7, degree=2, gamma=scale, kernel=rbf;, score=0.976 total time=   0.3s\n",
      "[CV 5/15] END C=7, degree=2, gamma=scale, kernel=rbf;, score=0.989 total time=   0.3s\n",
      "[CV 6/15] END C=7, degree=2, gamma=scale, kernel=rbf;, score=0.980 total time=   0.4s\n",
      "[CV 7/15] END C=7, degree=2, gamma=scale, kernel=rbf;, score=0.989 total time=   0.4s\n",
      "[CV 8/15] END C=7, degree=2, gamma=scale, kernel=rbf;, score=0.993 total time=   0.4s\n",
      "[CV 9/15] END C=7, degree=2, gamma=scale, kernel=rbf;, score=0.987 total time=   0.3s\n",
      "[CV 10/15] END C=7, degree=2, gamma=scale, kernel=rbf;, score=0.984 total time=   0.3s\n",
      "[CV 11/15] END C=7, degree=2, gamma=scale, kernel=rbf;, score=0.984 total time=   0.3s\n",
      "[CV 12/15] END C=7, degree=2, gamma=scale, kernel=rbf;, score=0.991 total time=   0.3s\n",
      "[CV 13/15] END C=7, degree=2, gamma=scale, kernel=rbf;, score=0.991 total time=   0.3s\n",
      "[CV 14/15] END C=7, degree=2, gamma=scale, kernel=rbf;, score=0.984 total time=   0.3s\n",
      "[CV 15/15] END C=7, degree=2, gamma=scale, kernel=rbf;, score=0.980 total time=   0.3s\n",
      "[CV 1/15] END C=5, degree=1, gamma=scale, kernel=rbf;, score=0.987 total time=   0.4s\n",
      "[CV 2/15] END C=5, degree=1, gamma=scale, kernel=rbf;, score=0.989 total time=   0.4s\n",
      "[CV 3/15] END C=5, degree=1, gamma=scale, kernel=rbf;, score=0.989 total time=   0.4s\n",
      "[CV 4/15] END C=5, degree=1, gamma=scale, kernel=rbf;, score=0.976 total time=   0.3s\n",
      "[CV 5/15] END C=5, degree=1, gamma=scale, kernel=rbf;, score=0.984 total time=   0.4s\n",
      "[CV 6/15] END C=5, degree=1, gamma=scale, kernel=rbf;, score=0.980 total time=   0.4s\n",
      "[CV 7/15] END C=5, degree=1, gamma=scale, kernel=rbf;, score=0.987 total time=   0.4s\n",
      "[CV 8/15] END C=5, degree=1, gamma=scale, kernel=rbf;, score=0.993 total time=   0.4s\n",
      "[CV 9/15] END C=5, degree=1, gamma=scale, kernel=rbf;, score=0.980 total time=   0.4s\n",
      "[CV 10/15] END C=5, degree=1, gamma=scale, kernel=rbf;, score=0.982 total time=   0.4s\n",
      "[CV 11/15] END C=5, degree=1, gamma=scale, kernel=rbf;, score=0.984 total time=   0.4s\n",
      "[CV 12/15] END C=5, degree=1, gamma=scale, kernel=rbf;, score=0.989 total time=   0.5s\n",
      "[CV 13/15] END C=5, degree=1, gamma=scale, kernel=rbf;, score=0.991 total time=   0.5s\n",
      "[CV 1/15] END C=10, degree=4, gamma=auto, kernel=linear;, score=0.984 total time=   0.2s\n",
      "[CV 14/15] END C=5, degree=1, gamma=scale, kernel=rbf;, score=0.982 total time=   0.5s\n",
      "[CV 15/15] END C=5, degree=1, gamma=scale, kernel=rbf;, score=0.980 total time=   0.5s\n",
      "[CV 2/15] END C=10, degree=4, gamma=auto, kernel=linear;, score=0.993 total time=   0.1s\n",
      "[CV 3/15] END C=10, degree=4, gamma=auto, kernel=linear;, score=0.993 total time=   0.1s\n",
      "[CV 4/15] END C=10, degree=4, gamma=auto, kernel=linear;, score=0.982 total time=   0.1s\n",
      "[CV 5/15] END C=10, degree=4, gamma=auto, kernel=linear;, score=0.984 total time=   0.1s\n",
      "[CV 6/15] END C=10, degree=4, gamma=auto, kernel=linear;, score=0.984 total time=   0.1s\n",
      "[CV 7/15] END C=10, degree=4, gamma=auto, kernel=linear;, score=0.987 total time=   0.1s\n",
      "[CV 8/15] END C=10, degree=4, gamma=auto, kernel=linear;, score=0.991 total time=   0.1s\n",
      "[CV 9/15] END C=10, degree=4, gamma=auto, kernel=linear;, score=0.991 total time=   0.1s\n",
      "[CV 10/15] END C=10, degree=4, gamma=auto, kernel=linear;, score=0.984 total time=   0.2s\n",
      "[CV 11/15] END C=10, degree=4, gamma=auto, kernel=linear;, score=0.984 total time=   0.2s\n",
      "[CV 12/15] END C=10, degree=4, gamma=auto, kernel=linear;, score=0.991 total time=   0.1s\n",
      "[CV 13/15] END C=10, degree=4, gamma=auto, kernel=linear;, score=0.987 total time=   0.1s\n",
      "[CV 14/15] END C=10, degree=4, gamma=auto, kernel=linear;, score=0.978 total time=   0.2s\n",
      "[CV 15/15] END C=10, degree=4, gamma=auto, kernel=linear;, score=0.993 total time=   0.1s\n",
      "[CV 1/15] END C=5, degree=4, gamma=auto, kernel=linear;, score=0.984 total time=   0.1s\n",
      "[CV 2/15] END C=5, degree=4, gamma=auto, kernel=linear;, score=0.993 total time=   0.1s\n",
      "[CV 3/15] END C=5, degree=4, gamma=auto, kernel=linear;, score=0.993 total time=   0.1s\n",
      "[CV 4/15] END C=5, degree=4, gamma=auto, kernel=linear;, score=0.982 total time=   0.1s\n",
      "[CV 5/15] END C=5, degree=4, gamma=auto, kernel=linear;, score=0.984 total time=   0.1s\n",
      "[CV 6/15] END C=5, degree=4, gamma=auto, kernel=linear;, score=0.984 total time=   0.1s\n",
      "[CV 7/15] END C=5, degree=4, gamma=auto, kernel=linear;, score=0.987 total time=   0.1s\n",
      "[CV 8/15] END C=5, degree=4, gamma=auto, kernel=linear;, score=0.991 total time=   0.1s\n",
      "[CV 9/15] END C=5, degree=4, gamma=auto, kernel=linear;, score=0.991 total time=   0.1s\n",
      "[CV 10/15] END C=5, degree=4, gamma=auto, kernel=linear;, score=0.984 total time=   0.1s\n",
      "[CV 11/15] END C=5, degree=4, gamma=auto, kernel=linear;, score=0.984 total time=   0.1s\n",
      "[CV 12/15] END C=5, degree=4, gamma=auto, kernel=linear;, score=0.991 total time=   0.1s\n",
      "[CV 13/15] END C=5, degree=4, gamma=auto, kernel=linear;, score=0.987 total time=   0.1s\n",
      "[CV 14/15] END C=5, degree=4, gamma=auto, kernel=linear;, score=0.978 total time=   0.1s\n",
      "[CV 15/15] END C=5, degree=4, gamma=auto, kernel=linear;, score=0.993 total time=   0.1s\n",
      "[CV 1/15] END C=1, degree=9, gamma=scale, kernel=rbf;, score=0.949 total time=   0.6s\n",
      "[CV 2/15] END C=1, degree=9, gamma=scale, kernel=rbf;, score=0.958 total time=   0.7s\n",
      "[CV 3/15] END C=1, degree=9, gamma=scale, kernel=rbf;, score=0.960 total time=   0.7s\n",
      "[CV 4/15] END C=1, degree=9, gamma=scale, kernel=rbf;, score=0.947 total time=   0.8s\n",
      "[CV 5/15] END C=1, degree=9, gamma=scale, kernel=rbf;, score=0.969 total time=   0.9s\n",
      "[CV 6/15] END C=1, degree=9, gamma=scale, kernel=rbf;, score=0.942 total time=   1.0s\n",
      "[CV 7/15] END C=1, degree=9, gamma=scale, kernel=rbf;, score=0.958 total time=   1.1s\n",
      "[CV 8/15] END C=1, degree=9, gamma=scale, kernel=rbf;, score=0.964 total time=   1.0s\n",
      "[CV 9/15] END C=1, degree=9, gamma=scale, kernel=rbf;, score=0.944 total time=   1.1s\n",
      "[CV 10/15] END C=1, degree=9, gamma=scale, kernel=rbf;, score=0.971 total time=   1.1s\n",
      "[CV 11/15] END C=1, degree=9, gamma=scale, kernel=rbf;, score=0.962 total time=   1.0s\n",
      "[CV 12/15] END C=1, degree=9, gamma=scale, kernel=rbf;, score=0.951 total time=   1.0s\n",
      "[CV 13/15] END C=1, degree=9, gamma=scale, kernel=rbf;, score=0.964 total time=   1.0s\n",
      "[CV 14/15] END C=1, degree=9, gamma=scale, kernel=rbf;, score=0.951 total time=   1.0s\n",
      "[CV 1/15] END C=4, degree=10, gamma=scale, kernel=sigmoid;, score=0.502 total time=   0.8s\n",
      "[CV 15/15] END C=1, degree=9, gamma=scale, kernel=rbf;, score=0.944 total time=   1.0s\n",
      "[CV 2/15] END C=4, degree=10, gamma=scale, kernel=sigmoid;, score=0.533 total time=   0.8s\n",
      "[CV 3/15] END C=4, degree=10, gamma=scale, kernel=sigmoid;, score=0.520 total time=   0.8s\n",
      "[CV 4/15] END C=4, degree=10, gamma=scale, kernel=sigmoid;, score=0.576 total time=   0.8s\n",
      "[CV 5/15] END C=4, degree=10, gamma=scale, kernel=sigmoid;, score=0.507 total time=   0.7s\n",
      "[CV 6/15] END C=4, degree=10, gamma=scale, kernel=sigmoid;, score=0.542 total time=   0.7s\n",
      "[CV 7/15] END C=4, degree=10, gamma=scale, kernel=sigmoid;, score=0.560 total time=   0.6s\n",
      "[CV 8/15] END C=4, degree=10, gamma=scale, kernel=sigmoid;, score=0.493 total time=   0.6s\n",
      "[CV 9/15] END C=4, degree=10, gamma=scale, kernel=sigmoid;, score=0.544 total time=   0.6s\n",
      "[CV 10/15] END C=4, degree=10, gamma=scale, kernel=sigmoid;, score=0.513 total time=   0.6s\n",
      "[CV 11/15] END C=4, degree=10, gamma=scale, kernel=sigmoid;, score=0.564 total time=   0.7s\n",
      "[CV 12/15] END C=4, degree=10, gamma=scale, kernel=sigmoid;, score=0.511 total time=   0.9s\n",
      "[CV 13/15] END C=4, degree=10, gamma=scale, kernel=sigmoid;, score=0.529 total time=   1.0s\n",
      "[CV 14/15] END C=4, degree=10, gamma=scale, kernel=sigmoid;, score=0.518 total time=   1.0s\n",
      "[CV 1/15] END C=7, degree=10, gamma=auto, kernel=rbf;, score=0.991 total time=   0.7s\n",
      "[CV 15/15] END C=4, degree=10, gamma=scale, kernel=sigmoid;, score=0.558 total time=   1.0s\n",
      "[CV 2/15] END C=7, degree=10, gamma=auto, kernel=rbf;, score=0.989 total time=   0.6s\n",
      "[CV 3/15] END C=7, degree=10, gamma=auto, kernel=rbf;, score=0.989 total time=   0.5s\n",
      "[CV 4/15] END C=7, degree=10, gamma=auto, kernel=rbf;, score=0.976 total time=   0.4s\n",
      "[CV 5/15] END C=7, degree=10, gamma=auto, kernel=rbf;, score=0.989 total time=   0.3s\n",
      "[CV 6/15] END C=7, degree=10, gamma=auto, kernel=rbf;, score=0.980 total time=   0.3s\n",
      "[CV 7/15] END C=7, degree=10, gamma=auto, kernel=rbf;, score=0.989 total time=   0.3s\n",
      "[CV 8/15] END C=7, degree=10, gamma=auto, kernel=rbf;, score=0.993 total time=   0.3s\n",
      "[CV 9/15] END C=7, degree=10, gamma=auto, kernel=rbf;, score=0.987 total time=   0.3s\n",
      "[CV 10/15] END C=7, degree=10, gamma=auto, kernel=rbf;, score=0.982 total time=   0.3s\n",
      "[CV 11/15] END C=7, degree=10, gamma=auto, kernel=rbf;, score=0.984 total time=   0.3s\n",
      "[CV 12/15] END C=7, degree=10, gamma=auto, kernel=rbf;, score=0.991 total time=   0.3s\n",
      "[CV 13/15] END C=7, degree=10, gamma=auto, kernel=rbf;, score=0.991 total time=   0.3s\n",
      "[CV 14/15] END C=7, degree=10, gamma=auto, kernel=rbf;, score=0.984 total time=   0.3s\n",
      "[CV 15/15] END C=7, degree=10, gamma=auto, kernel=rbf;, score=0.980 total time=   0.2s\n",
      "The best model: SVC(C=2, degree=7, kernel='linear')\n"
     ]
    },
    {
     "name": "stderr",
     "output_type": "stream",
     "text": [
      "100%|██████████| 750/750 [00:00<00:00, 2351.87it/s]\n"
     ]
    }
   ],
   "source": [
    "mfccs_train = []\n",
    "for fname in tqdm(data_train):\n",
    "    mfccs_train.append(np.loadtxt(dir_mfcc + '/' + fname.replace('.wav', '.mfcc')).ravel())\n",
    "\n",
    "model_svm_tuning_grid = dict(\n",
    "    kernel = ['linear', 'rbf', 'sigmoid', 'poly'],\n",
    "    C = range(1, 11, 1),\n",
    "    degree = range(11),\n",
    "    gamma = ['scale', 'auto']\n",
    ")\n",
    "model_svm_tuning_cv = sklearn.model_selection.RepeatedKFold(n_splits = 5, n_repeats = 3, random_state = seed)\n",
    "gridSearch = sklearn.model_selection.RandomizedSearchCV(estimator = sklearn.svm.SVC(), param_distributions = model_svm_tuning_grid, n_iter = 50, \n",
    "    n_jobs = -1, random_state = seed, cv = model_svm_tuning_cv, scoring = \"accuracy\", verbose = 3)\n",
    "searchResults = gridSearch.fit(mfccs_train, data_train_label)\n",
    "model_svm = searchResults.best_estimator_\n",
    "print('The best model: ' + str(model_svm))\n",
    "\n",
    "mfccs_test = []\n",
    "for fname in tqdm(data_test):\n",
    "    mfccs_test.append(np.loadtxt(dir_mfcc + '/' + fname.replace('.wav', '.mfcc')).ravel())\n",
    "model_svm_predict = model_svm.predict(mfccs_test)"
   ]
  },
  {
   "cell_type": "markdown",
   "metadata": {},
   "source": [
    "Let's build a confusion matrix for our model:"
   ]
  },
  {
   "cell_type": "code",
   "execution_count": 135,
   "metadata": {},
   "outputs": [
    {
     "data": {
      "image/png": "[encoded data removed]",
      "text/plain": [
       "<Figure size 640x480 with 2 Axes>"
      ]
     },
     "metadata": {},
     "output_type": "display_data"
    },
    {
     "name": "stdout",
     "output_type": "stream",
     "text": [
      "SVM accuracy with hyperparameters tuning and CV: 0.9866666666666667\n"
     ]
    }
   ],
   "source": [
    "conf_svm = sklearn.metrics.confusion_matrix(data_test_label, model_svm_predict);\n",
    "disp = sklearn.metrics.ConfusionMatrixDisplay(conf_svm)\n",
    "disp.plot()\n",
    "plt.show()\n",
    "accuracy_svm = sklearn.metrics.accuracy_score(data_test_label, model_svm_predict)\n",
    "print('SVM accuracy with hyperparameters tuning and CV: ' + str(accuracy_svm))"
   ]
  },
  {
   "cell_type": "markdown",
   "metadata": {},
   "source": [
    "Let's build CNN:"
   ]
  },
  {
   "cell_type": "code",
   "execution_count": 148,
   "metadata": {},
   "outputs": [
    {
     "name": "stderr",
     "output_type": "stream",
     "text": [
      "100%|██████████| 2250/2250 [00:00<00:00, 2961.95it/s]\n",
      "100%|██████████| 750/750 [00:00<00:00, 3271.69it/s]\n"
     ]
    },
    {
     "name": "stdout",
     "output_type": "stream",
     "text": [
      "Epoch 1/20\n",
      "71/71 [==============================] - 1s 2ms/step - loss: 2.1970 - accuracy: 0.2204\n",
      "Epoch 2/20\n",
      "71/71 [==============================] - 0s 2ms/step - loss: 1.6936 - accuracy: 0.4787\n",
      "Epoch 3/20\n",
      "71/71 [==============================] - 0s 2ms/step - loss: 1.2620 - accuracy: 0.6569\n",
      "Epoch 4/20\n",
      "71/71 [==============================] - 0s 2ms/step - loss: 0.9349 - accuracy: 0.7556\n",
      "Epoch 5/20\n",
      "71/71 [==============================] - 0s 3ms/step - loss: 0.7228 - accuracy: 0.8164\n",
      "Epoch 6/20\n",
      "71/71 [==============================] - 0s 3ms/step - loss: 0.6027 - accuracy: 0.8444\n",
      "Epoch 7/20\n",
      "71/71 [==============================] - 0s 3ms/step - loss: 0.5066 - accuracy: 0.8662\n",
      "Epoch 8/20\n",
      "71/71 [==============================] - 0s 3ms/step - loss: 0.4490 - accuracy: 0.8844\n",
      "Epoch 9/20\n",
      "71/71 [==============================] - 0s 3ms/step - loss: 0.3937 - accuracy: 0.8991\n",
      "Epoch 10/20\n",
      "71/71 [==============================] - 0s 3ms/step - loss: 0.3525 - accuracy: 0.9071\n",
      "Epoch 11/20\n",
      "71/71 [==============================] - 0s 3ms/step - loss: 0.3186 - accuracy: 0.9151\n",
      "Epoch 12/20\n",
      "71/71 [==============================] - 0s 3ms/step - loss: 0.2877 - accuracy: 0.9289\n",
      "Epoch 13/20\n",
      "71/71 [==============================] - 0s 3ms/step - loss: 0.2875 - accuracy: 0.9169\n",
      "Epoch 14/20\n",
      "71/71 [==============================] - 0s 3ms/step - loss: 0.2601 - accuracy: 0.9298\n",
      "Epoch 15/20\n",
      "71/71 [==============================] - 0s 3ms/step - loss: 0.2302 - accuracy: 0.9356\n",
      "Epoch 16/20\n",
      "71/71 [==============================] - 0s 2ms/step - loss: 0.2305 - accuracy: 0.9409\n",
      "Epoch 17/20\n",
      "71/71 [==============================] - 0s 2ms/step - loss: 0.2095 - accuracy: 0.9391\n",
      "Epoch 18/20\n",
      "71/71 [==============================] - 0s 2ms/step - loss: 0.2103 - accuracy: 0.9480\n",
      "Epoch 19/20\n",
      "71/71 [==============================] - 0s 2ms/step - loss: 0.2086 - accuracy: 0.9431\n",
      "Epoch 20/20\n",
      "71/71 [==============================] - 0s 2ms/step - loss: 0.1794 - accuracy: 0.9542\n",
      "24/24 [==============================] - 3s 2ms/step\n"
     ]
    }
   ],
   "source": [
    "mfccs_train = []\n",
    "for fname in tqdm(data_train):\n",
    "    mfccs_train.append(np.loadtxt(dir_mfcc + '/' + fname.replace('.wav', '.mfcc')))\n",
    "\n",
    "mfccs_test = []\n",
    "for fname in tqdm(data_test):\n",
    "    mfccs_test.append(np.loadtxt(dir_mfcc + '/' + fname.replace('.wav', '.mfcc')))\n",
    "\n",
    "input_shape = (20, 13)\n",
    "model_cnn = tf.keras.models.Sequential()\n",
    "model_cnn.add(tf.keras.layers.Conv1D(filters = 20, kernel_size = 3, activation = 'relu', input_shape = input_shape))\n",
    "model_cnn.add(tf.keras.layers.MaxPool1D(2))\n",
    "model_cnn.add(tf.keras.layers.Dropout(0.2))\n",
    "model_cnn.add(tf.keras.layers.Flatten())\n",
    "model_cnn.add(tf.keras.layers.Dense(10, activation = 'softmax'))\n",
    "model_cnn.compile(optimizer = 'adam', loss = tf.keras.losses.SparseCategoricalCrossentropy(from_logits = False), metrics = ['accuracy'])\n",
    "model_cnn_history = model_cnn.fit(np.array(mfccs_train), np.array([int(s) for s in data_train_label]), epochs = 20)\n",
    "model_cnn_predict = model_cnn.predict(np.array(mfccs_test))"
   ]
  },
  {
   "cell_type": "markdown",
   "metadata": {},
   "source": [
    "Let's build a confusion matrix for our model:"
   ]
  },
  {
   "cell_type": "code",
   "execution_count": 149,
   "metadata": {},
   "outputs": [
    {
     "data": {
      "image/png": "[encoded data removed]",
      "text/plain": [
       "<Figure size 640x480 with 2 Axes>"
      ]
     },
     "metadata": {},
     "output_type": "display_data"
    },
    {
     "name": "stdout",
     "output_type": "stream",
     "text": [
      "CNN accuracy: 0.98\n"
     ]
    }
   ],
   "source": [
    "conf_cnn = sklearn.metrics.confusion_matrix(data_test_label, [str(np.where(ar == max(ar))[0][0]) for ar in model_cnn_predict]);\n",
    "disp = sklearn.metrics.ConfusionMatrixDisplay(conf_cnn)\n",
    "disp.plot()\n",
    "plt.show()\n",
    "accuracy_cnn = sklearn.metrics.accuracy_score(data_test_label, [str(np.where(ar == max(ar))[0][0]) for ar in model_cnn_predict])\n",
    "print('CNN accuracy: ' + str(accuracy_cnn))"
   ]
  },
  {
   "cell_type": "markdown",
   "metadata": {},
   "source": [
    "Let's build optimized CNN:"
   ]
  },
  {
   "cell_type": "code",
   "execution_count": 150,
   "metadata": {},
   "outputs": [
    {
     "name": "stdout",
     "output_type": "stream",
     "text": [
      "Trial 90 Complete [00h 00m 05s]\n",
      "val_accuracy: 0.4422222077846527\n",
      "\n",
      "Best val_accuracy So Far: 0.9911110997200012\n",
      "Total elapsed time: 00h 04m 07s\n",
      "INFO:tensorflow:Oracle triggered exit\n",
      "Epoch 1/20\n",
      "71/71 [==============================] - 1s 2ms/step - loss: 0.7788 - accuracy: 0.7702\n",
      "Epoch 2/20\n",
      "71/71 [==============================] - 0s 2ms/step - loss: 0.1417 - accuracy: 0.9684\n",
      "Epoch 3/20\n",
      "71/71 [==============================] - 0s 2ms/step - loss: 0.0926 - accuracy: 0.9804\n",
      "Epoch 4/20\n",
      "71/71 [==============================] - 0s 2ms/step - loss: 0.0667 - accuracy: 0.9840\n",
      "Epoch 5/20\n",
      "71/71 [==============================] - 0s 2ms/step - loss: 0.0592 - accuracy: 0.9884\n",
      "Epoch 6/20\n",
      "71/71 [==============================] - 0s 2ms/step - loss: 0.0447 - accuracy: 0.9893\n",
      "Epoch 7/20\n",
      "71/71 [==============================] - 0s 2ms/step - loss: 0.0430 - accuracy: 0.9876\n",
      "Epoch 8/20\n",
      "71/71 [==============================] - 0s 2ms/step - loss: 0.0395 - accuracy: 0.9907\n",
      "Epoch 9/20\n",
      "71/71 [==============================] - 0s 2ms/step - loss: 0.0323 - accuracy: 0.9924\n",
      "Epoch 10/20\n",
      "71/71 [==============================] - 0s 2ms/step - loss: 0.0357 - accuracy: 0.9893\n",
      "Epoch 11/20\n",
      "71/71 [==============================] - 0s 2ms/step - loss: 0.0304 - accuracy: 0.9929\n",
      "Epoch 12/20\n",
      "71/71 [==============================] - 0s 2ms/step - loss: 0.0344 - accuracy: 0.9907\n",
      "Epoch 13/20\n",
      "71/71 [==============================] - 0s 2ms/step - loss: 0.0459 - accuracy: 0.9809\n",
      "Epoch 14/20\n",
      "71/71 [==============================] - 0s 2ms/step - loss: 0.0317 - accuracy: 0.9893\n",
      "Epoch 15/20\n",
      "71/71 [==============================] - 0s 2ms/step - loss: 0.0514 - accuracy: 0.9849\n",
      "Epoch 16/20\n",
      "71/71 [==============================] - 0s 2ms/step - loss: 0.0261 - accuracy: 0.9933\n",
      "Epoch 17/20\n",
      "71/71 [==============================] - 0s 2ms/step - loss: 0.0364 - accuracy: 0.9871\n",
      "Epoch 18/20\n",
      "71/71 [==============================] - 0s 2ms/step - loss: 0.0326 - accuracy: 0.9880\n",
      "Epoch 19/20\n",
      "71/71 [==============================] - 0s 2ms/step - loss: 0.0263 - accuracy: 0.9884\n",
      "Epoch 20/20\n",
      "71/71 [==============================] - 0s 2ms/step - loss: 0.0300 - accuracy: 0.9884\n",
      "24/24 [==============================] - 0s 1ms/step\n"
     ]
    }
   ],
   "source": [
    "def cnn_builder(tuner):\n",
    "    model = tf.keras.models.Sequential()\n",
    "    for i in range(1, tuner.Int(\"layers\", 1, 3)):\n",
    "        model.add(\n",
    "            tf.keras.layers.Conv1D(\n",
    "                filters = tuner.Int(f'filters_{i}', min_value = 4, max_value = 64, step = 4), \n",
    "                kernel_size = tuner.Int(f'kernel_size_{i}', min_value = 1, max_value = 5, step = 1), \n",
    "                activation = tuner.Choice(f'activation_{i}', ['relu', 'sigmoid', 'tanh']), \n",
    "                input_shape = (20, 13)\n",
    "            )\n",
    "        )\n",
    "    model.add(tf.keras.layers.MaxPool1D(tuner.Int('pool', min_value = 1, max_value = 5, step = 1)))\n",
    "    model.add(tf.keras.layers.Dropout(tuner.Float('dropout', min_value = 0.1, max_value = 0.9, step = 0.1)))\n",
    "    model.add(tf.keras.layers.Flatten())\n",
    "    model.add(tf.keras.layers.Dense(10, activation = 'softmax'))\n",
    "    model.compile(\n",
    "        optimizer = tf.keras.optimizers.Adam(learning_rate = tuner.Choice('learning_rate', values = [1e-2, 1e-3, 1e-4])),\n",
    "        loss = tf.keras.losses.SparseCategoricalCrossentropy(),\n",
    "        metrics = [\"accuracy\"]\n",
    "    )\n",
    "    return model\n",
    "\n",
    "tuner = keras_tuner.Hyperband(\n",
    "    cnn_builder, \n",
    "    objective = 'val_accuracy', \n",
    "    seed = seed,\n",
    "    overwrite = True,\n",
    "    max_epochs = 20,\n",
    "    hyperband_iterations = 3,\n",
    "    directory = '../tuner', \n",
    "    project_name = 'cnn'\n",
    ")\n",
    "stop_early = tf.keras.callbacks.EarlyStopping(monitor = 'val_accuracy', patience = 5)\n",
    "tuner.search(np.array(mfccs_train), np.array([int(s) for s in data_train_label]), epochs = 20, validation_split = 0.2, callbacks = [stop_early], verbose = 1)\n",
    "\n",
    "model_cnn = tuner.hypermodel.build(tuner.get_best_hyperparameters()[0])\n",
    "model_cnn_history = model_cnn.fit(np.array(mfccs_train), np.array([int(s) for s in data_train_label]), epochs = 20)\n",
    "model_cnn_predict = model_cnn.predict(np.array(mfccs_test))"
   ]
  },
  {
   "cell_type": "code",
   "execution_count": 151,
   "metadata": {},
   "outputs": [
    {
     "name": "stdout",
     "output_type": "stream",
     "text": [
      "The best CNN model:\n",
      "\n",
      "Model: \"sequential_1\"\n",
      "_________________________________________________________________\n",
      " Layer (type)                Output Shape              Param #   \n",
      "=================================================================\n",
      " conv1d_1 (Conv1D)           (None, 16, 32)            2112      \n",
      "                                                                 \n",
      " max_pooling1d_1 (MaxPooling  (None, 8, 32)            0         \n",
      " 1D)                                                             \n",
      "                                                                 \n",
      " dropout_1 (Dropout)         (None, 8, 32)             0         \n",
      "                                                                 \n",
      " flatten_1 (Flatten)         (None, 256)               0         \n",
      "                                                                 \n",
      " dense_1 (Dense)             (None, 10)                2570      \n",
      "                                                                 \n",
      "=================================================================\n",
      "Total params: 4,682\n",
      "Trainable params: 4,682\n",
      "Non-trainable params: 0\n",
      "_________________________________________________________________\n",
      "None\n"
     ]
    }
   ],
   "source": [
    "print('The best CNN model:\\n')\n",
    "print(model_cnn.summary())"
   ]
  },
  {
   "cell_type": "code",
   "execution_count": 153,
   "metadata": {},
   "outputs": [
    {
     "name": "stdout",
     "output_type": "stream",
     "text": [
      "0.2\n"
     ]
    }
   ],
   "source": [
    "print(model_cnn.get_layer('dropout_1').rate)"
   ]
  },
  {
   "cell_type": "markdown",
   "metadata": {},
   "source": [
    "Let's build a confusion matrix for our model:"
   ]
  },
  {
   "cell_type": "code",
   "execution_count": 152,
   "metadata": {},
   "outputs": [
    {
     "data": {
      "image/png": "[encoded data removed]",
      "text/plain": [
       "<Figure size 640x480 with 2 Axes>"
      ]
     },
     "metadata": {},
     "output_type": "display_data"
    },
    {
     "name": "stdout",
     "output_type": "stream",
     "text": [
      "Optimized CNN accuracy: 0.9866666666666667\n"
     ]
    }
   ],
   "source": [
    "conf_cnn = sklearn.metrics.confusion_matrix(data_test_label, [str(np.where(ar == max(ar))[0][0]) for ar in model_cnn_predict]);\n",
    "disp = sklearn.metrics.ConfusionMatrixDisplay(conf_cnn)\n",
    "disp.plot()\n",
    "plt.show()\n",
    "accuracy_cnn = sklearn.metrics.accuracy_score(data_test_label, [str(np.where(ar == max(ar))[0][0]) for ar in model_cnn_predict])\n",
    "print('Optimized CNN accuracy: ' + str(accuracy_cnn))"
   ]
  },
  {
   "cell_type": "markdown",
   "metadata": {},
   "source": [
    "Let's create RNN:"
   ]
  },
  {
   "cell_type": "code",
   "execution_count": 162,
   "metadata": {},
   "outputs": [
    {
     "name": "stdout",
     "output_type": "stream",
     "text": [
      "Epoch 1/20\n",
      "71/71 [==============================] - 2s 7ms/step - loss: 1.8019 - acc: 0.4142\n",
      "Epoch 2/20\n",
      "71/71 [==============================] - 0s 6ms/step - loss: 0.9209 - acc: 0.7858\n",
      "Epoch 3/20\n",
      "71/71 [==============================] - 0s 6ms/step - loss: 0.5434 - acc: 0.8964\n",
      "Epoch 4/20\n",
      "71/71 [==============================] - 0s 6ms/step - loss: 0.3473 - acc: 0.9431\n",
      "Epoch 5/20\n",
      "71/71 [==============================] - 1s 8ms/step - loss: 0.2657 - acc: 0.9413\n",
      "Epoch 6/20\n",
      "71/71 [==============================] - 1s 7ms/step - loss: 0.2086 - acc: 0.9547\n",
      "Epoch 7/20\n",
      "71/71 [==============================] - 0s 6ms/step - loss: 0.1611 - acc: 0.9676\n",
      "Epoch 8/20\n",
      "71/71 [==============================] - 0s 6ms/step - loss: 0.1355 - acc: 0.9720\n",
      "Epoch 9/20\n",
      "71/71 [==============================] - 0s 6ms/step - loss: 0.1283 - acc: 0.9684\n",
      "Epoch 10/20\n",
      "71/71 [==============================] - 0s 6ms/step - loss: 0.1186 - acc: 0.9711\n",
      "Epoch 11/20\n",
      "71/71 [==============================] - 0s 6ms/step - loss: 0.0973 - acc: 0.9778\n",
      "Epoch 12/20\n",
      "71/71 [==============================] - 0s 6ms/step - loss: 0.0931 - acc: 0.9800\n",
      "Epoch 13/20\n",
      "71/71 [==============================] - 0s 6ms/step - loss: 0.0721 - acc: 0.9836\n",
      "Epoch 14/20\n",
      "71/71 [==============================] - 1s 8ms/step - loss: 0.0754 - acc: 0.9844\n",
      "Epoch 15/20\n",
      "71/71 [==============================] - 0s 6ms/step - loss: 0.0663 - acc: 0.9858\n",
      "Epoch 16/20\n",
      "71/71 [==============================] - 0s 6ms/step - loss: 0.0726 - acc: 0.9813\n",
      "Epoch 17/20\n",
      "71/71 [==============================] - 0s 6ms/step - loss: 0.0651 - acc: 0.9884\n",
      "Epoch 18/20\n",
      "71/71 [==============================] - 0s 6ms/step - loss: 0.0759 - acc: 0.9822\n",
      "Epoch 19/20\n",
      "71/71 [==============================] - 0s 6ms/step - loss: 0.0598 - acc: 0.9871\n",
      "Epoch 20/20\n",
      "71/71 [==============================] - 0s 7ms/step - loss: 0.0683 - acc: 0.9840\n",
      "24/24 [==============================] - 0s 3ms/step\n"
     ]
    }
   ],
   "source": [
    "input_shape = (20, 13)\n",
    "model_rnn = tf.keras.models.Sequential()\n",
    "model_rnn.add(tf.keras.layers.SimpleRNN(48, input_shape = input_shape, return_sequences = True))\n",
    "model_rnn.add(tf.keras.layers.Dropout(0.2))\n",
    "model_rnn.add(tf.keras.layers.SimpleRNN(32))\n",
    "model_rnn.add(tf.keras.layers.Dropout(0.2))\n",
    "model_rnn.add(tf.keras.layers.Dense(10, activation = 'softmax'))\n",
    "model_rnn.compile(optimizer = 'adam',loss = 'SparseCategoricalCrossentropy', metrics = ['acc'])\n",
    "model_rnn_history = model_rnn.fit(np.array(mfccs_train), np.array([int(s) for s in data_train_label]), epochs = 20)\n",
    "model_rnn_predict = model_rnn.predict(np.array(mfccs_test))"
   ]
  },
  {
   "cell_type": "markdown",
   "metadata": {},
   "source": [
    "Let's build a confusion matrix for our model:"
   ]
  },
  {
   "cell_type": "code",
   "execution_count": 163,
   "metadata": {},
   "outputs": [
    {
     "data": {
      "image/png": "[encoded data removed]",
      "text/plain": [
       "<Figure size 640x480 with 2 Axes>"
      ]
     },
     "metadata": {},
     "output_type": "display_data"
    },
    {
     "name": "stdout",
     "output_type": "stream",
     "text": [
      "RNN accuracy: 0.9826666666666667\n"
     ]
    }
   ],
   "source": [
    "conf_rnn = sklearn.metrics.confusion_matrix(data_test_label, [str(np.where(ar == max(ar))[0][0]) for ar in model_rnn_predict]);\n",
    "disp = sklearn.metrics.ConfusionMatrixDisplay(conf_rnn)\n",
    "disp.plot()\n",
    "plt.show()\n",
    "accuracy_rnn = sklearn.metrics.accuracy_score(data_test_label, [str(np.where(ar == max(ar))[0][0]) for ar in model_rnn_predict])\n",
    "print('RNN accuracy: ' + str(accuracy_rnn))"
   ]
  },
  {
   "cell_type": "markdown",
   "metadata": {},
   "source": [
    "Let's build an optimized RNN:"
   ]
  },
  {
   "cell_type": "code",
   "execution_count": 168,
   "metadata": {},
   "outputs": [
    {
     "name": "stdout",
     "output_type": "stream",
     "text": [
      "Trial 150 Complete [00h 00m 06s]\n",
      "val_accuracy: 0.9622222185134888\n",
      "\n",
      "Best val_accuracy So Far: 0.9911110997200012\n",
      "Total elapsed time: 00h 06m 57s\n",
      "INFO:tensorflow:Oracle triggered exit\n",
      "Epoch 1/20\n",
      "71/71 [==============================] - 1s 2ms/step - loss: 0.7924 - accuracy: 0.7569\n",
      "Epoch 2/20\n",
      "71/71 [==============================] - 0s 2ms/step - loss: 0.1413 - accuracy: 0.9649\n",
      "Epoch 3/20\n",
      "71/71 [==============================] - 0s 2ms/step - loss: 0.0939 - accuracy: 0.9764\n",
      "Epoch 4/20\n",
      "71/71 [==============================] - 0s 2ms/step - loss: 0.0788 - accuracy: 0.9791\n",
      "Epoch 5/20\n",
      "71/71 [==============================] - 0s 2ms/step - loss: 0.0584 - accuracy: 0.9813\n",
      "Epoch 6/20\n",
      "71/71 [==============================] - 0s 2ms/step - loss: 0.0590 - accuracy: 0.9822\n",
      "Epoch 7/20\n",
      "71/71 [==============================] - 0s 2ms/step - loss: 0.0473 - accuracy: 0.9858\n",
      "Epoch 8/20\n",
      "71/71 [==============================] - 0s 2ms/step - loss: 0.0326 - accuracy: 0.9907\n",
      "Epoch 9/20\n",
      "71/71 [==============================] - 0s 2ms/step - loss: 0.0252 - accuracy: 0.9929\n",
      "Epoch 10/20\n",
      "71/71 [==============================] - 0s 2ms/step - loss: 0.0224 - accuracy: 0.9938\n",
      "Epoch 11/20\n",
      "71/71 [==============================] - 0s 3ms/step - loss: 0.0254 - accuracy: 0.9924\n",
      "Epoch 12/20\n",
      "71/71 [==============================] - 0s 2ms/step - loss: 0.0264 - accuracy: 0.9933\n",
      "Epoch 13/20\n",
      "71/71 [==============================] - 0s 2ms/step - loss: 0.0275 - accuracy: 0.9916\n",
      "Epoch 14/20\n",
      "71/71 [==============================] - 0s 2ms/step - loss: 0.0285 - accuracy: 0.9911\n",
      "Epoch 15/20\n",
      "71/71 [==============================] - 0s 2ms/step - loss: 0.0313 - accuracy: 0.9893\n",
      "Epoch 16/20\n",
      "71/71 [==============================] - 0s 2ms/step - loss: 0.0224 - accuracy: 0.9938\n",
      "Epoch 17/20\n",
      "71/71 [==============================] - 0s 2ms/step - loss: 0.0172 - accuracy: 0.9964\n",
      "Epoch 18/20\n",
      "71/71 [==============================] - 0s 2ms/step - loss: 0.0181 - accuracy: 0.9933\n",
      "Epoch 19/20\n",
      "71/71 [==============================] - 0s 2ms/step - loss: 0.0224 - accuracy: 0.9920\n",
      "Epoch 20/20\n",
      "71/71 [==============================] - 0s 2ms/step - loss: 0.0149 - accuracy: 0.9969\n",
      "24/24 [==============================] - 0s 1ms/step\n"
     ]
    }
   ],
   "source": [
    "def rnn_builder(tuner):\n",
    "    model = tf.keras.models.Sequential()\n",
    "    for i in range(1, tuner.Int(\"layers\", min_value = 2, max_value = 4, step = 1)):\n",
    "        model.add(\n",
    "            tf.keras.layers.LSTM(\n",
    "                name = f'simplernn_{i}',\n",
    "                units = tuner.Int(f'filters_{i}', min_value = 4, max_value = 64, step = 4), \n",
    "                activation = tuner.Choice(f'activation_{i}', ['relu', 'sigmoid', 'tanh']),\n",
    "                return_sequences = True,\n",
    "                input_shape = (20, 13)\n",
    "            )\n",
    "        )\n",
    "    model.add(tf.keras.layers.Dropout(tuner.Float(f'dropout_{i}', min_value = 0.1, max_value = 0.9, step = 0.1)))\n",
    "    model.add(tf.keras.layers.Flatten())\n",
    "    model.add(tf.keras.layers.Dense(10, activation = 'softmax'))\n",
    "    model.compile(\n",
    "        optimizer = tf.keras.optimizers.Adam(learning_rate = 1e-2),\n",
    "        loss = tf.keras.losses.SparseCategoricalCrossentropy(),\n",
    "        metrics = [\"accuracy\"]\n",
    "    )\n",
    "    return model\n",
    "\n",
    "tuner = keras_tuner.Hyperband(\n",
    "    cnn_builder, \n",
    "    objective = 'val_accuracy', \n",
    "    seed = seed,\n",
    "    overwrite = True,\n",
    "    max_epochs = 20,\n",
    "    hyperband_iterations = 5,\n",
    "    directory = '../tuner', \n",
    "    project_name = 'rnn'\n",
    ")\n",
    "stop_early = tf.keras.callbacks.EarlyStopping(monitor = 'val_accuracy', patience = 5)\n",
    "tuner.search(np.array(mfccs_train), np.array([int(s) for s in data_train_label]), epochs = 20, validation_split = 0.2, callbacks = [stop_early], verbose = 1)\n",
    "\n",
    "model_rnn = tuner.hypermodel.build(tuner.get_best_hyperparameters()[0])\n",
    "model_rnn_history = model_rnn.fit(np.array(mfccs_train), np.array([int(s) for s in data_train_label]), epochs = 20)\n",
    "model_rnn_predict = model_rnn.predict(np.array(mfccs_test))\n"
   ]
  },
  {
   "cell_type": "code",
   "execution_count": 108,
   "metadata": {},
   "outputs": [
    {
     "name": "stdout",
     "output_type": "stream",
     "text": [
      "The best RNN model:\n",
      "\n",
      "Model: \"sequential_1\"\n",
      "_________________________________________________________________\n",
      " Layer (type)                Output Shape              Param #   \n",
      "=================================================================\n",
      " simplernn_1 (LSTM)          (None, 20, 64)            19968     \n",
      "                                                                 \n",
      " dropout_1 (Dropout)         (None, 20, 64)            0         \n",
      "                                                                 \n",
      " flatten_1 (Flatten)         (None, 1280)              0         \n",
      "                                                                 \n",
      " dense_1 (Dense)             (None, 10)                12810     \n",
      "                                                                 \n",
      "=================================================================\n",
      "Total params: 32,778\n",
      "Trainable params: 32,778\n",
      "Non-trainable params: 0\n",
      "_________________________________________________________________\n",
      "None\n"
     ]
    }
   ],
   "source": [
    "print('The best RNN model:\\n')\n",
    "print(model_rnn.summary())"
   ]
  },
  {
   "cell_type": "code",
   "execution_count": 117,
   "metadata": {},
   "outputs": [
    {
     "name": "stdout",
     "output_type": "stream",
     "text": [
      "<keras.initializers.initializers_v2.GlorotUniform object at 0x150a7da60>\n"
     ]
    }
   ],
   "source": [
    "print(model_rnn.get_layer('simplernn_1').recurrent_initializer)"
   ]
  },
  {
   "cell_type": "markdown",
   "metadata": {},
   "source": [
    "Let's build a confusion matrix for our model:"
   ]
  },
  {
   "cell_type": "code",
   "execution_count": 169,
   "metadata": {},
   "outputs": [
    {
     "data": {
      "image/png": "[encoded data removed]",
      "text/plain": [
       "<Figure size 640x480 with 2 Axes>"
      ]
     },
     "metadata": {},
     "output_type": "display_data"
    },
    {
     "name": "stdout",
     "output_type": "stream",
     "text": [
      "RNN accuracy: 0.9893333333333333\n"
     ]
    }
   ],
   "source": [
    "conf_rnn = sklearn.metrics.confusion_matrix(data_test_label, [str(np.where(ar == max(ar))[0][0]) for ar in model_rnn_predict]);\n",
    "disp = sklearn.metrics.ConfusionMatrixDisplay(conf_rnn)\n",
    "disp.plot()\n",
    "plt.show()\n",
    "accuracy_rnn = sklearn.metrics.accuracy_score(data_test_label, [str(np.where(ar == max(ar))[0][0]) for ar in model_rnn_predict])\n",
    "print('RNN accuracy: ' + str(accuracy_rnn))"
   ]
  },
  {
   "cell_type": "markdown",
   "metadata": {},
   "source": [
    "Let's use AutoML to find a model:"
   ]
  },
  {
   "cell_type": "code",
   "execution_count": 32,
   "metadata": {},
   "outputs": [
    {
     "name": "stdout",
     "output_type": "stream",
     "text": [
      "                                                                                \n",
      "Generation 1 - Current best internal CV score: 0.983111111111111\n",
      "                                                                              \n",
      "Generation 2 - Current best internal CV score: 0.9851851851851853\n",
      "                                                                                \n",
      "Generation 3 - Current best internal CV score: 0.9865185185185185\n",
      "                                                                                \n",
      "Generation 4 - Current best internal CV score: 0.9887407407407408\n",
      "                                                             \n",
      "Generation 5 - Current best internal CV score: 0.9887407407407408\n",
      "                                                             \n",
      "Best pipeline: ExtraTreesClassifier(input_matrix, bootstrap=True, criterion=entropy, max_features=0.2, min_samples_leaf=1, min_samples_split=4, n_estimators=100)\n"
     ]
    }
   ],
   "source": [
    "model_aml_cv = sklearn.model_selection.RepeatedStratifiedKFold(n_splits = 5, n_repeats = 3, random_state = seed)\n",
    "model_aml = tpot.TPOTClassifier(generations = 5, population_size = 50, cv = model_aml_cv, scoring = 'accuracy', verbosity = 2, random_state = seed, n_jobs = -1)\n",
    "model_aml.fit(np.array(mfccs_train).reshape(2250, -1), np.array([int(s) for s in data_train_label]))\n",
    "model_aml_predict = model_aml.predict(np.array(mfccs_test).reshape(750, -1))"
   ]
  },
  {
   "cell_type": "markdown",
   "metadata": {},
   "source": [
    "Let's build a confusion matrix for our model:"
   ]
  },
  {
   "cell_type": "code",
   "execution_count": 33,
   "metadata": {},
   "outputs": [
    {
     "data": {
      "image/png": "[encoded data removed]",
      "text/plain": [
       "<Figure size 640x480 with 2 Axes>"
      ]
     },
     "metadata": {},
     "output_type": "display_data"
    },
    {
     "name": "stdout",
     "output_type": "stream",
     "text": [
      "AutoML produced model accuracy: 0.992\n"
     ]
    }
   ],
   "source": [
    "conf_aml = sklearn.metrics.confusion_matrix(data_test_label, [str(ar) for ar in model_aml_predict]);\n",
    "disp = sklearn.metrics.ConfusionMatrixDisplay(conf_aml)\n",
    "disp.plot()\n",
    "plt.show()\n",
    "accuracy_aml = sklearn.metrics.accuracy_score(data_test_label, [str(ar) for ar in model_aml_predict])\n",
    "print('AutoML produced model accuracy: ' + str(accuracy_aml))"
   ]
  }
 ],
 "metadata": {
  "kernelspec": {
   "display_name": "Python 3.9.6 ('project': venv)",
   "language": "python",
   "name": "python3"
  },
  "language_info": {
   "codemirror_mode": {
    "name": "ipython",
    "version": 3
   },
   "file_extension": ".py",
   "mimetype": "text/x-python",
   "name": "python",
   "nbconvert_exporter": "python",
   "pygments_lexer": "ipython3",
   "version": "3.9.6"
  },
  "orig_nbformat": 4,
  "vscode": {
   "interpreter": {
    "hash": "1afb861c6f798adf1b91d2e94ecf7c89c7ae45eb4d40b13176d03cb4175b3c1e"
   }
  }
 },
 "nbformat": 4,
 "nbformat_minor": 2
}
