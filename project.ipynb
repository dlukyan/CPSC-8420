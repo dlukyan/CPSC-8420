{
 "cells": [
  {
   "cell_type": "code",
   "execution_count": 147,
   "metadata": {},
   "outputs": [],
   "source": [
    "import os\n",
    "import wave\n",
    "import warnings\n",
    "warnings.simplefilter(action='ignore', category=FutureWarning)\n",
    "import librosa\n",
    "import librosa.display\n",
    "import soundfile\n",
    "import numpy as np\n",
    "import sklearn\n",
    "import matplotlib.pyplot as plt\n",
    "from tqdm import tqdm"
   ]
  },
  {
   "cell_type": "markdown",
   "metadata": {},
   "source": [
    "Let's set some parameters:"
   ]
  },
  {
   "cell_type": "code",
   "execution_count": 148,
   "metadata": {},
   "outputs": [],
   "source": [
    "seed = 12345\n",
    "dir_source = os.path.abspath('../data/recordings')\n",
    "dir_trimmed = os.path.abspath('../data/trimmed')\n",
    "dir_unified = os.path.abspath('../data/unified')\n",
    "dir_mel = os.path.abspath('../data/mel')\n",
    "dir_mfcc = os.path.abspath('../data/mfcc/')\n"
   ]
  },
  {
   "cell_type": "markdown",
   "metadata": {},
   "source": [
    "Let's collect names of all source files:"
   ]
  },
  {
   "cell_type": "code",
   "execution_count": 149,
   "metadata": {},
   "outputs": [
    {
     "name": "stdout",
     "output_type": "stream",
     "text": [
      "Source directory: /Users/dmitry/Documents/Clemson/AML/project/data/recordings\n",
      "Source files: 3000\n"
     ]
    }
   ],
   "source": [
    "print('Source directory: ' + dir_source)\n",
    "files_wav = os.listdir(dir_source)\n",
    "print('Source files: ' + str(len(files_wav)))"
   ]
  },
  {
   "cell_type": "markdown",
   "metadata": {},
   "source": [
    "The first step would be unify the number of channels.\n",
    "Let's understand if it's required for our dataset:"
   ]
  },
  {
   "cell_type": "code",
   "execution_count": 150,
   "metadata": {},
   "outputs": [
    {
     "name": "stderr",
     "output_type": "stream",
     "text": [
      "100%|██████████| 3000/3000 [00:00<00:00, 4127.97it/s]"
     ]
    },
    {
     "name": "stdout",
     "output_type": "stream",
     "text": [
      "Unique channel number: 1\n"
     ]
    },
    {
     "name": "stderr",
     "output_type": "stream",
     "text": [
      "\n"
     ]
    }
   ],
   "source": [
    "ch = []\n",
    "for fname in tqdm(files_wav):\n",
    "    f = wave.open(dir_source + '/' + fname, 'rb')\n",
    "    ch.append(f.getnchannels())\n",
    "    f.close()\n",
    "print('Unique channel number: ' + str(len(set(ch))))"
   ]
  },
  {
   "cell_type": "markdown",
   "metadata": {},
   "source": [
    "Let's understand how many channels our files have:"
   ]
  },
  {
   "cell_type": "code",
   "execution_count": 151,
   "metadata": {},
   "outputs": [
    {
     "name": "stdout",
     "output_type": "stream",
     "text": [
      "Channels: 1\n"
     ]
    }
   ],
   "source": [
    "f = wave.open(dir_source + '/' + files_wav[0], 'rb')\n",
    "print('Channels: ' + str(f.getnchannels()))\n",
    "f.close()"
   ]
  },
  {
   "cell_type": "markdown",
   "metadata": {},
   "source": [
    "It means all our files have one channel (mono). For different numbers of channels we would have two options:\n",
    "- downscale a number of channels for all files to 1\n",
    "- upscale a number of channels for all files to the maximum of all files\n",
    "\n",
    "The first option is simpler as for the second one we would need to handle the situation when the maximum is 3, but some files have 2 channels with different content."
   ]
  },
  {
   "cell_type": "markdown",
   "metadata": {},
   "source": [
    "The second step would be unify the sample rate.\n",
    "Let's understand if it's required for our dataset:"
   ]
  },
  {
   "cell_type": "code",
   "execution_count": 152,
   "metadata": {},
   "outputs": [
    {
     "name": "stderr",
     "output_type": "stream",
     "text": [
      "100%|██████████| 3000/3000 [00:00<00:00, 16749.68it/s]"
     ]
    },
    {
     "name": "stdout",
     "output_type": "stream",
     "text": [
      "Unique sample rate number: 1\n"
     ]
    },
    {
     "name": "stderr",
     "output_type": "stream",
     "text": [
      "\n"
     ]
    }
   ],
   "source": [
    "rt = []\n",
    "for fname in tqdm(files_wav):\n",
    "    f = wave.open(dir_source + '/' + fname, 'rb')\n",
    "    rt.append(f.getframerate())\n",
    "    f.close()\n",
    "print('Unique sample rate number: ' + str(len(set(rt))))"
   ]
  },
  {
   "cell_type": "markdown",
   "metadata": {},
   "source": [
    "The third step is to unify the duration.\n",
    "As we have just mono files, we can calulate a duration for each file in the next way and understand if we need to unify it:"
   ]
  },
  {
   "cell_type": "code",
   "execution_count": 153,
   "metadata": {},
   "outputs": [
    {
     "name": "stderr",
     "output_type": "stream",
     "text": [
      "100%|██████████| 3000/3000 [00:00<00:00, 18056.87it/s]"
     ]
    },
    {
     "name": "stdout",
     "output_type": "stream",
     "text": [
      "Unique duration number: 2056\n"
     ]
    },
    {
     "name": "stderr",
     "output_type": "stream",
     "text": [
      "\n"
     ]
    }
   ],
   "source": [
    "dur = []\n",
    "for fname in tqdm(files_wav):\n",
    "    f = wave.open(dir_source + '/' + fname, 'rb')\n",
    "    dur.append(f.getnframes() / float(f.getframerate()))\n",
    "    f.close()\n",
    "print('Unique duration number: ' + str(len(set(dur))))"
   ]
  },
  {
   "cell_type": "markdown",
   "metadata": {},
   "source": [
    "It means we need to unify the duration for all files.\n",
    "\n",
    "Let's start with removing silence from all files:"
   ]
  },
  {
   "cell_type": "code",
   "execution_count": 154,
   "metadata": {},
   "outputs": [
    {
     "name": "stderr",
     "output_type": "stream",
     "text": [
      "100%|██████████| 3000/3000 [00:03<00:00, 774.25it/s]\n"
     ]
    }
   ],
   "source": [
    "for fname in tqdm(files_wav):\n",
    "    audio, sr = librosa.load(dir_source + '/' + fname, sr = 8000, mono = True)\n",
    "    clip = librosa.effects.trim(audio, top_db = 10)\n",
    "    soundfile.write(dir_trimmed + '/' + fname, clip[0], sr)"
   ]
  },
  {
   "cell_type": "markdown",
   "metadata": {},
   "source": [
    "Now let's find the maximum duration among all files:"
   ]
  },
  {
   "cell_type": "code",
   "execution_count": 155,
   "metadata": {},
   "outputs": [
    {
     "name": "stderr",
     "output_type": "stream",
     "text": [
      "100%|██████████| 3000/3000 [00:00<00:00, 4923.50it/s]"
     ]
    },
    {
     "name": "stdout",
     "output_type": "stream",
     "text": [
      "Max duration: 6457\n"
     ]
    },
    {
     "name": "stderr",
     "output_type": "stream",
     "text": [
      "\n"
     ]
    }
   ],
   "source": [
    "dur_max = 0\n",
    "for fname in tqdm(files_wav):\n",
    "    audio, sr = librosa.load(dir_trimmed + '/' + fname, sr = 8000, mono = True)\n",
    "    dur_max = dur_max if dur_max > audio.shape[0] else audio.shape[0]\n",
    "print('Max duration: ' + str(dur_max))"
   ]
  },
  {
   "cell_type": "markdown",
   "metadata": {},
   "source": [
    "And now let's unify duration for all files:"
   ]
  },
  {
   "cell_type": "code",
   "execution_count": 156,
   "metadata": {},
   "outputs": [
    {
     "name": "stderr",
     "output_type": "stream",
     "text": [
      "100%|██████████| 3000/3000 [00:02<00:00, 1032.69it/s]\n"
     ]
    }
   ],
   "source": [
    "for fname in tqdm(files_wav):\n",
    "    audio, sr = librosa.load(dir_trimmed + '/' + fname, sr = 8000, mono = True)\n",
    "    clip = librosa.util.pad_center(data = audio, size = dur_max)\n",
    "    soundfile.write(dir_unified + '/' + fname, clip, sr)"
   ]
  },
  {
   "cell_type": "markdown",
   "metadata": {},
   "source": [
    "Now let's check the result:"
   ]
  },
  {
   "cell_type": "code",
   "execution_count": 157,
   "metadata": {},
   "outputs": [
    {
     "name": "stderr",
     "output_type": "stream",
     "text": [
      "100%|██████████| 3000/3000 [00:00<00:00, 8669.14it/s]"
     ]
    },
    {
     "name": "stdout",
     "output_type": "stream",
     "text": [
      "Unique duration number: 1\n"
     ]
    },
    {
     "name": "stderr",
     "output_type": "stream",
     "text": [
      "\n"
     ]
    }
   ],
   "source": [
    "dur = []\n",
    "for fname in tqdm(files_wav):\n",
    "    f = wave.open(dir_unified + '/' + fname, 'rb')\n",
    "    dur.append(f.getnframes() / float(f.getframerate()))\n",
    "    f.close()\n",
    "print('Unique duration number: ' + str(len(set(dur))))"
   ]
  },
  {
   "cell_type": "markdown",
   "metadata": {},
   "source": [
    "Let's calculate mel spectrograms for our files:"
   ]
  },
  {
   "cell_type": "code",
   "execution_count": 158,
   "metadata": {},
   "outputs": [
    {
     "name": "stderr",
     "output_type": "stream",
     "text": [
      "100%|██████████| 3000/3000 [00:39<00:00, 75.62it/s] \n"
     ]
    }
   ],
   "source": [
    "for fname in tqdm(files_wav):\n",
    "    audio, sr = librosa.load(dir_unified + '/' + fname, sr = 8000, mono = True)\n",
    "    mel = librosa.feature.melspectrogram(y = audio, sr = sr)\n",
    "    np.savetxt(dir_mel + '/' + fname.replace('.wav', '.mel'), mel)"
   ]
  },
  {
   "cell_type": "markdown",
   "metadata": {},
   "source": [
    "Let's try to plot one of these files:"
   ]
  },
  {
   "cell_type": "code",
   "execution_count": 159,
   "metadata": {},
   "outputs": [
    {
     "name": "stdout",
     "output_type": "stream",
     "text": [
      "5_nicolas_9.wav\n"
     ]
    },
    {
     "data": {
      "image/png": "[encoded data removed]",
      "text/plain": [
       "<Figure size 640x480 with 2 Axes>"
      ]
     },
     "metadata": {},
     "output_type": "display_data"
    }
   ],
   "source": [
    "mel = np.loadtxt(dir_mel + '/' + files_wav[0].replace('.wav', '.mel'))\n",
    "fig, ax = plt.subplots()\n",
    "mel_db = librosa.power_to_db(mel, ref=np.max)\n",
    "img = librosa.display.specshow(mel_db, x_axis = 'time', y_axis = 'mel', sr = sr, fmax = 8000, ax = ax)\n",
    "fig.colorbar(img, ax = ax, format = '%+2.0f dB')\n",
    "ax.set(title = 'Mel-frequency spectrogram')\n",
    "print(files_wav[0])"
   ]
  },
  {
   "cell_type": "markdown",
   "metadata": {},
   "source": [
    "Let's calculate MFCCs:"
   ]
  },
  {
   "cell_type": "code",
   "execution_count": 160,
   "metadata": {},
   "outputs": [
    {
     "name": "stderr",
     "output_type": "stream",
     "text": [
      "100%|██████████| 3000/3000 [00:30<00:00, 96.79it/s] \n"
     ]
    }
   ],
   "source": [
    "scaler = sklearn.preprocessing.StandardScaler()\n",
    "for fname in tqdm(files_wav):\n",
    "    audio, sr = librosa.load(dir_unified + '/' + fname, sr = 8000, mono = True)\n",
    "    mfcc = librosa.feature.mfcc(audio, sr = sr)\n",
    "    mfcc = scaler.fit_transform(mfcc)\n",
    "    np.savetxt(dir_mfcc + '/' + fname.replace('.wav', '.mfcc'), mfcc)"
   ]
  },
  {
   "cell_type": "markdown",
   "metadata": {},
   "source": [
    "Let's split the dataset onto a training and a testing sets:"
   ]
  },
  {
   "cell_type": "code",
   "execution_count": 161,
   "metadata": {},
   "outputs": [
    {
     "name": "stdout",
     "output_type": "stream",
     "text": [
      "Training set size: 2250\n",
      "Testing set size: 750\n"
     ]
    }
   ],
   "source": [
    "data_train, data_test = sklearn.model_selection.train_test_split(files_wav, random_state = seed)\n",
    "print('Training set size: ' + str(len(data_train)))\n",
    "print('Testing set size: ' + str(len(data_test)))"
   ]
  },
  {
   "cell_type": "markdown",
   "metadata": {},
   "source": [
    "Let's create labels for our training and testing data:"
   ]
  },
  {
   "cell_type": "code",
   "execution_count": 162,
   "metadata": {},
   "outputs": [
    {
     "name": "stderr",
     "output_type": "stream",
     "text": [
      "100%|██████████| 2250/2250 [00:00<00:00, 802140.59it/s]\n",
      "100%|██████████| 750/750 [00:00<00:00, 1048925.64it/s]\n"
     ]
    }
   ],
   "source": [
    "data_train_label = []\n",
    "data_test_label = []\n",
    "for d in tqdm(data_train):\n",
    "    data_train_label.append(d[0])\n",
    "for d in tqdm(data_test):\n",
    "    data_test_label.append(d[0])"
   ]
  },
  {
   "cell_type": "markdown",
   "metadata": {},
   "source": [
    "When we use sklearn for SVM, the library provides 3 options of implementation: SVC, NuSVC and LinearSVC. The latter is, actually, not truly SVM as it minimizes squared hinge loss, instead of just hinge loss, that leads to penalizing the size of bias, and supports only linear kernels, so, effectively, there are 2 options - SVC and NuSVC. As the both implementations are almost identical, we will use SVC."
   ]
  },
  {
   "cell_type": "code",
   "execution_count": 163,
   "metadata": {},
   "outputs": [
    {
     "name": "stderr",
     "output_type": "stream",
     "text": [
      "100%|██████████| 2250/2250 [00:00<00:00, 2526.09it/s]\n",
      "100%|██████████| 750/750 [00:00<00:00, 991.52it/s] \n"
     ]
    }
   ],
   "source": [
    "mfccs_train = []\n",
    "for fname in tqdm(data_train):\n",
    "    mfccs_train.append(np.loadtxt(dir_mfcc + '/' + fname.replace('.wav', '.mfcc')).ravel())\n",
    "model_svc = sklearn.svm.SVC(kernel = 'rbf', random_state = seed)\n",
    "model_svc.fit(mfccs_train, data_train_label)\n",
    "\n",
    "mfccs_test = []\n",
    "for fname in tqdm(data_test):\n",
    "    mfccs_test.append(np.loadtxt(dir_mfcc + '/' + fname.replace('.wav', '.mfcc')).ravel())\n",
    "model_svm_predict = predict = model_svc.predict(mfccs_test)\n"
   ]
  }
 ],
 "metadata": {
  "kernelspec": {
   "display_name": "Python 3.9.6 ('project': venv)",
   "language": "python",
   "name": "python3"
  },
  "language_info": {
   "codemirror_mode": {
    "name": "ipython",
    "version": 3
   },
   "file_extension": ".py",
   "mimetype": "text/x-python",
   "name": "python",
   "nbconvert_exporter": "python",
   "pygments_lexer": "ipython3",
   "version": "3.9.6"
  },
  "orig_nbformat": 4,
  "vscode": {
   "interpreter": {
    "hash": "1afb861c6f798adf1b91d2e94ecf7c89c7ae45eb4d40b13176d03cb4175b3c1e"
   }
  }
 },
 "nbformat": 4,
 "nbformat_minor": 2
}
